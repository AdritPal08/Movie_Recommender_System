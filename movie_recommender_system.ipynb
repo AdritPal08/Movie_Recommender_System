{
 "cells": [
  {
   "cell_type": "markdown",
   "id": "135a0713",
   "metadata": {
    "papermill": {
     "duration": 0.023202,
     "end_time": "2022-10-10T21:47:09.796123",
     "exception": false,
     "start_time": "2022-10-10T21:47:09.772921",
     "status": "completed"
    },
    "tags": []
   },
   "source": [
    "# Import Libraries"
   ]
  },
  {
   "cell_type": "code",
   "execution_count": 1,
   "id": "4277f447",
   "metadata": {
    "execution": {
     "iopub.execute_input": "2022-10-10T21:47:09.836084Z",
     "iopub.status.busy": "2022-10-10T21:47:09.835166Z",
     "iopub.status.idle": "2022-10-10T21:47:11.859393Z",
     "shell.execute_reply": "2022-10-10T21:47:11.858349Z"
    },
    "papermill": {
     "duration": 2.047443,
     "end_time": "2022-10-10T21:47:11.862279",
     "exception": false,
     "start_time": "2022-10-10T21:47:09.814836",
     "status": "completed"
    },
    "tags": []
   },
   "outputs": [],
   "source": [
    "import pandas as pd\n",
    "import numpy as np\n",
    "import ast\n",
    "import nltk\n",
    "import matplotlib.pyplot as plt\n",
    "import seaborn as sns\n",
    "from sklearn.feature_extraction.text import TfidfVectorizer\n",
    "from sklearn.feature_extraction.text import CountVectorizer\n"
   ]
  },
  {
   "cell_type": "markdown",
   "id": "78d7af5a",
   "metadata": {
    "papermill": {
     "duration": 0.01839,
     "end_time": "2022-10-10T21:47:11.899993",
     "exception": false,
     "start_time": "2022-10-10T21:47:11.881603",
     "status": "completed"
    },
    "tags": []
   },
   "source": [
    "# Import Dataset"
   ]
  },
  {
   "cell_type": "code",
   "execution_count": 2,
   "id": "7bd8ffae",
   "metadata": {
    "canvas": {
     "comments": [],
     "componentType": "CodeCell",
     "copiedOriginId": null,
     "diskcache": false,
     "headerColor": "inherit",
     "id": "7a0cf51d-b5d9-4ee1-b7de-fbca01f39c0a",
     "isComponent": true,
     "name": "Import DataSet",
     "parents": [
      {
       "id": "8bd93a30-3fdc-471f-ae0f-2a010146aa29",
       "name": "Import Libraries"
      }
     ]
    },
    "execution": {
     "iopub.execute_input": "2022-10-10T21:47:11.939744Z",
     "iopub.status.busy": "2022-10-10T21:47:11.938963Z",
     "iopub.status.idle": "2022-10-10T21:47:12.986782Z",
     "shell.execute_reply": "2022-10-10T21:47:12.985544Z"
    },
    "papermill": {
     "duration": 1.071054,
     "end_time": "2022-10-10T21:47:12.989756",
     "exception": false,
     "start_time": "2022-10-10T21:47:11.918702",
     "status": "completed"
    },
    "tags": []
   },
   "outputs": [],
   "source": [
    "movies=pd.read_csv('../input/tmdb-movie-metadata/tmdb_5000_movies.csv')\n",
    "# movies.head(1)\n",
    "credits = pd.read_csv('../input/tmdb-movie-metadata/tmdb_5000_credits.csv')\n",
    "# credits.head(1)"
   ]
  },
  {
   "cell_type": "markdown",
   "id": "fa71b87e",
   "metadata": {
    "papermill": {
     "duration": 0.018195,
     "end_time": "2022-10-10T21:47:13.027083",
     "exception": false,
     "start_time": "2022-10-10T21:47:13.008888",
     "status": "completed"
    },
    "tags": []
   },
   "source": [
    "# Merge two dataset"
   ]
  },
  {
   "cell_type": "code",
   "execution_count": 3,
   "id": "18fab708",
   "metadata": {
    "canvas": {
     "comments": [],
     "componentType": "CodeCell",
     "copiedOriginId": null,
     "diskcache": false,
     "headerColor": "inherit",
     "id": "e71b2a53-064e-4f7d-888a-b97a6c97211f",
     "isComponent": true,
     "name": "Merged two datasets",
     "parents": [
      {
       "id": "7a0cf51d-b5d9-4ee1-b7de-fbca01f39c0a",
       "name": "Import DataSet"
      }
     ]
    },
    "execution": {
     "iopub.execute_input": "2022-10-10T21:47:13.066033Z",
     "iopub.status.busy": "2022-10-10T21:47:13.065610Z",
     "iopub.status.idle": "2022-10-10T21:47:13.105867Z",
     "shell.execute_reply": "2022-10-10T21:47:13.104474Z"
    },
    "papermill": {
     "duration": 0.063283,
     "end_time": "2022-10-10T21:47:13.108719",
     "exception": false,
     "start_time": "2022-10-10T21:47:13.045436",
     "status": "completed"
    },
    "tags": []
   },
   "outputs": [],
   "source": [
    "movies=movies.merge(credits,on='title')"
   ]
  },
  {
   "cell_type": "code",
   "execution_count": 4,
   "id": "bc7dd366",
   "metadata": {
    "execution": {
     "iopub.execute_input": "2022-10-10T21:47:13.147993Z",
     "iopub.status.busy": "2022-10-10T21:47:13.147577Z",
     "iopub.status.idle": "2022-10-10T21:47:13.178340Z",
     "shell.execute_reply": "2022-10-10T21:47:13.177228Z"
    },
    "papermill": {
     "duration": 0.054379,
     "end_time": "2022-10-10T21:47:13.181678",
     "exception": false,
     "start_time": "2022-10-10T21:47:13.127299",
     "status": "completed"
    },
    "tags": []
   },
   "outputs": [
    {
     "data": {
      "text/html": [
       "<div>\n",
       "<style scoped>\n",
       "    .dataframe tbody tr th:only-of-type {\n",
       "        vertical-align: middle;\n",
       "    }\n",
       "\n",
       "    .dataframe tbody tr th {\n",
       "        vertical-align: top;\n",
       "    }\n",
       "\n",
       "    .dataframe thead th {\n",
       "        text-align: right;\n",
       "    }\n",
       "</style>\n",
       "<table border=\"1\" class=\"dataframe\">\n",
       "  <thead>\n",
       "    <tr style=\"text-align: right;\">\n",
       "      <th></th>\n",
       "      <th>budget</th>\n",
       "      <th>genres</th>\n",
       "      <th>homepage</th>\n",
       "      <th>id</th>\n",
       "      <th>keywords</th>\n",
       "      <th>original_language</th>\n",
       "      <th>original_title</th>\n",
       "      <th>overview</th>\n",
       "      <th>popularity</th>\n",
       "      <th>production_companies</th>\n",
       "      <th>...</th>\n",
       "      <th>runtime</th>\n",
       "      <th>spoken_languages</th>\n",
       "      <th>status</th>\n",
       "      <th>tagline</th>\n",
       "      <th>title</th>\n",
       "      <th>vote_average</th>\n",
       "      <th>vote_count</th>\n",
       "      <th>movie_id</th>\n",
       "      <th>cast</th>\n",
       "      <th>crew</th>\n",
       "    </tr>\n",
       "  </thead>\n",
       "  <tbody>\n",
       "    <tr>\n",
       "      <th>0</th>\n",
       "      <td>237000000</td>\n",
       "      <td>[{\"id\": 28, \"name\": \"Action\"}, {\"id\": 12, \"nam...</td>\n",
       "      <td>http://www.avatarmovie.com/</td>\n",
       "      <td>19995</td>\n",
       "      <td>[{\"id\": 1463, \"name\": \"culture clash\"}, {\"id\":...</td>\n",
       "      <td>en</td>\n",
       "      <td>Avatar</td>\n",
       "      <td>In the 22nd century, a paraplegic Marine is di...</td>\n",
       "      <td>150.437577</td>\n",
       "      <td>[{\"name\": \"Ingenious Film Partners\", \"id\": 289...</td>\n",
       "      <td>...</td>\n",
       "      <td>162.0</td>\n",
       "      <td>[{\"iso_639_1\": \"en\", \"name\": \"English\"}, {\"iso...</td>\n",
       "      <td>Released</td>\n",
       "      <td>Enter the World of Pandora.</td>\n",
       "      <td>Avatar</td>\n",
       "      <td>7.2</td>\n",
       "      <td>11800</td>\n",
       "      <td>19995</td>\n",
       "      <td>[{\"cast_id\": 242, \"character\": \"Jake Sully\", \"...</td>\n",
       "      <td>[{\"credit_id\": \"52fe48009251416c750aca23\", \"de...</td>\n",
       "    </tr>\n",
       "    <tr>\n",
       "      <th>1</th>\n",
       "      <td>300000000</td>\n",
       "      <td>[{\"id\": 12, \"name\": \"Adventure\"}, {\"id\": 14, \"...</td>\n",
       "      <td>http://disney.go.com/disneypictures/pirates/</td>\n",
       "      <td>285</td>\n",
       "      <td>[{\"id\": 270, \"name\": \"ocean\"}, {\"id\": 726, \"na...</td>\n",
       "      <td>en</td>\n",
       "      <td>Pirates of the Caribbean: At World's End</td>\n",
       "      <td>Captain Barbossa, long believed to be dead, ha...</td>\n",
       "      <td>139.082615</td>\n",
       "      <td>[{\"name\": \"Walt Disney Pictures\", \"id\": 2}, {\"...</td>\n",
       "      <td>...</td>\n",
       "      <td>169.0</td>\n",
       "      <td>[{\"iso_639_1\": \"en\", \"name\": \"English\"}]</td>\n",
       "      <td>Released</td>\n",
       "      <td>At the end of the world, the adventure begins.</td>\n",
       "      <td>Pirates of the Caribbean: At World's End</td>\n",
       "      <td>6.9</td>\n",
       "      <td>4500</td>\n",
       "      <td>285</td>\n",
       "      <td>[{\"cast_id\": 4, \"character\": \"Captain Jack Spa...</td>\n",
       "      <td>[{\"credit_id\": \"52fe4232c3a36847f800b579\", \"de...</td>\n",
       "    </tr>\n",
       "  </tbody>\n",
       "</table>\n",
       "<p>2 rows × 23 columns</p>\n",
       "</div>"
      ],
      "text/plain": [
       "      budget                                             genres  \\\n",
       "0  237000000  [{\"id\": 28, \"name\": \"Action\"}, {\"id\": 12, \"nam...   \n",
       "1  300000000  [{\"id\": 12, \"name\": \"Adventure\"}, {\"id\": 14, \"...   \n",
       "\n",
       "                                       homepage     id  \\\n",
       "0                   http://www.avatarmovie.com/  19995   \n",
       "1  http://disney.go.com/disneypictures/pirates/    285   \n",
       "\n",
       "                                            keywords original_language  \\\n",
       "0  [{\"id\": 1463, \"name\": \"culture clash\"}, {\"id\":...                en   \n",
       "1  [{\"id\": 270, \"name\": \"ocean\"}, {\"id\": 726, \"na...                en   \n",
       "\n",
       "                             original_title  \\\n",
       "0                                    Avatar   \n",
       "1  Pirates of the Caribbean: At World's End   \n",
       "\n",
       "                                            overview  popularity  \\\n",
       "0  In the 22nd century, a paraplegic Marine is di...  150.437577   \n",
       "1  Captain Barbossa, long believed to be dead, ha...  139.082615   \n",
       "\n",
       "                                production_companies  ... runtime  \\\n",
       "0  [{\"name\": \"Ingenious Film Partners\", \"id\": 289...  ...   162.0   \n",
       "1  [{\"name\": \"Walt Disney Pictures\", \"id\": 2}, {\"...  ...   169.0   \n",
       "\n",
       "                                    spoken_languages    status  \\\n",
       "0  [{\"iso_639_1\": \"en\", \"name\": \"English\"}, {\"iso...  Released   \n",
       "1           [{\"iso_639_1\": \"en\", \"name\": \"English\"}]  Released   \n",
       "\n",
       "                                          tagline  \\\n",
       "0                     Enter the World of Pandora.   \n",
       "1  At the end of the world, the adventure begins.   \n",
       "\n",
       "                                      title vote_average vote_count movie_id  \\\n",
       "0                                    Avatar          7.2      11800    19995   \n",
       "1  Pirates of the Caribbean: At World's End          6.9       4500      285   \n",
       "\n",
       "                                                cast  \\\n",
       "0  [{\"cast_id\": 242, \"character\": \"Jake Sully\", \"...   \n",
       "1  [{\"cast_id\": 4, \"character\": \"Captain Jack Spa...   \n",
       "\n",
       "                                                crew  \n",
       "0  [{\"credit_id\": \"52fe48009251416c750aca23\", \"de...  \n",
       "1  [{\"credit_id\": \"52fe4232c3a36847f800b579\", \"de...  \n",
       "\n",
       "[2 rows x 23 columns]"
      ]
     },
     "execution_count": 4,
     "metadata": {},
     "output_type": "execute_result"
    }
   ],
   "source": [
    "movies.head(2)"
   ]
  },
  {
   "cell_type": "code",
   "execution_count": 5,
   "id": "3cf89667",
   "metadata": {
    "execution": {
     "iopub.execute_input": "2022-10-10T21:47:13.221819Z",
     "iopub.status.busy": "2022-10-10T21:47:13.220917Z",
     "iopub.status.idle": "2022-10-10T21:47:13.248971Z",
     "shell.execute_reply": "2022-10-10T21:47:13.248127Z"
    },
    "papermill": {
     "duration": 0.050722,
     "end_time": "2022-10-10T21:47:13.251530",
     "exception": false,
     "start_time": "2022-10-10T21:47:13.200808",
     "status": "completed"
    },
    "tags": []
   },
   "outputs": [
    {
     "name": "stdout",
     "output_type": "stream",
     "text": [
      "(4809, 23)\n",
      "<class 'pandas.core.frame.DataFrame'>\n",
      "Int64Index: 4809 entries, 0 to 4808\n",
      "Data columns (total 23 columns):\n",
      " #   Column                Non-Null Count  Dtype  \n",
      "---  ------                --------------  -----  \n",
      " 0   budget                4809 non-null   int64  \n",
      " 1   genres                4809 non-null   object \n",
      " 2   homepage              1713 non-null   object \n",
      " 3   id                    4809 non-null   int64  \n",
      " 4   keywords              4809 non-null   object \n",
      " 5   original_language     4809 non-null   object \n",
      " 6   original_title        4809 non-null   object \n",
      " 7   overview              4806 non-null   object \n",
      " 8   popularity            4809 non-null   float64\n",
      " 9   production_companies  4809 non-null   object \n",
      " 10  production_countries  4809 non-null   object \n",
      " 11  release_date          4808 non-null   object \n",
      " 12  revenue               4809 non-null   int64  \n",
      " 13  runtime               4807 non-null   float64\n",
      " 14  spoken_languages      4809 non-null   object \n",
      " 15  status                4809 non-null   object \n",
      " 16  tagline               3965 non-null   object \n",
      " 17  title                 4809 non-null   object \n",
      " 18  vote_average          4809 non-null   float64\n",
      " 19  vote_count            4809 non-null   int64  \n",
      " 20  movie_id              4809 non-null   int64  \n",
      " 21  cast                  4809 non-null   object \n",
      " 22  crew                  4809 non-null   object \n",
      "dtypes: float64(3), int64(5), object(15)\n",
      "memory usage: 901.7+ KB\n"
     ]
    }
   ],
   "source": [
    "print (movies.shape)\n",
    "movies.info()"
   ]
  },
  {
   "cell_type": "code",
   "execution_count": 6,
   "id": "86993b39",
   "metadata": {
    "canvas": {
     "comments": [],
     "componentType": "CodeCell",
     "copiedOriginId": null,
     "diskcache": false,
     "headerColor": "inherit",
     "id": "567b14d4-5f6b-4763-b383-886de85b8260",
     "isComponent": false,
     "name": "",
     "parents": []
    },
    "execution": {
     "iopub.execute_input": "2022-10-10T21:47:13.292185Z",
     "iopub.status.busy": "2022-10-10T21:47:13.291402Z",
     "iopub.status.idle": "2022-10-10T21:47:13.310078Z",
     "shell.execute_reply": "2022-10-10T21:47:13.309219Z"
    },
    "papermill": {
     "duration": 0.041331,
     "end_time": "2022-10-10T21:47:13.312266",
     "exception": false,
     "start_time": "2022-10-10T21:47:13.270935",
     "status": "completed"
    },
    "tags": []
   },
   "outputs": [
    {
     "data": {
      "text/html": [
       "<div>\n",
       "<style scoped>\n",
       "    .dataframe tbody tr th:only-of-type {\n",
       "        vertical-align: middle;\n",
       "    }\n",
       "\n",
       "    .dataframe tbody tr th {\n",
       "        vertical-align: top;\n",
       "    }\n",
       "\n",
       "    .dataframe thead th {\n",
       "        text-align: right;\n",
       "    }\n",
       "</style>\n",
       "<table border=\"1\" class=\"dataframe\">\n",
       "  <thead>\n",
       "    <tr style=\"text-align: right;\">\n",
       "      <th></th>\n",
       "      <th>0</th>\n",
       "    </tr>\n",
       "  </thead>\n",
       "  <tbody>\n",
       "    <tr>\n",
       "      <th>budget</th>\n",
       "      <td>0</td>\n",
       "    </tr>\n",
       "    <tr>\n",
       "      <th>genres</th>\n",
       "      <td>0</td>\n",
       "    </tr>\n",
       "    <tr>\n",
       "      <th>homepage</th>\n",
       "      <td>3096</td>\n",
       "    </tr>\n",
       "    <tr>\n",
       "      <th>id</th>\n",
       "      <td>0</td>\n",
       "    </tr>\n",
       "    <tr>\n",
       "      <th>keywords</th>\n",
       "      <td>0</td>\n",
       "    </tr>\n",
       "    <tr>\n",
       "      <th>original_language</th>\n",
       "      <td>0</td>\n",
       "    </tr>\n",
       "    <tr>\n",
       "      <th>original_title</th>\n",
       "      <td>0</td>\n",
       "    </tr>\n",
       "    <tr>\n",
       "      <th>overview</th>\n",
       "      <td>3</td>\n",
       "    </tr>\n",
       "    <tr>\n",
       "      <th>popularity</th>\n",
       "      <td>0</td>\n",
       "    </tr>\n",
       "    <tr>\n",
       "      <th>production_companies</th>\n",
       "      <td>0</td>\n",
       "    </tr>\n",
       "    <tr>\n",
       "      <th>production_countries</th>\n",
       "      <td>0</td>\n",
       "    </tr>\n",
       "    <tr>\n",
       "      <th>release_date</th>\n",
       "      <td>1</td>\n",
       "    </tr>\n",
       "    <tr>\n",
       "      <th>revenue</th>\n",
       "      <td>0</td>\n",
       "    </tr>\n",
       "    <tr>\n",
       "      <th>runtime</th>\n",
       "      <td>2</td>\n",
       "    </tr>\n",
       "    <tr>\n",
       "      <th>spoken_languages</th>\n",
       "      <td>0</td>\n",
       "    </tr>\n",
       "    <tr>\n",
       "      <th>status</th>\n",
       "      <td>0</td>\n",
       "    </tr>\n",
       "    <tr>\n",
       "      <th>tagline</th>\n",
       "      <td>844</td>\n",
       "    </tr>\n",
       "    <tr>\n",
       "      <th>title</th>\n",
       "      <td>0</td>\n",
       "    </tr>\n",
       "    <tr>\n",
       "      <th>vote_average</th>\n",
       "      <td>0</td>\n",
       "    </tr>\n",
       "    <tr>\n",
       "      <th>vote_count</th>\n",
       "      <td>0</td>\n",
       "    </tr>\n",
       "    <tr>\n",
       "      <th>movie_id</th>\n",
       "      <td>0</td>\n",
       "    </tr>\n",
       "    <tr>\n",
       "      <th>cast</th>\n",
       "      <td>0</td>\n",
       "    </tr>\n",
       "    <tr>\n",
       "      <th>crew</th>\n",
       "      <td>0</td>\n",
       "    </tr>\n",
       "  </tbody>\n",
       "</table>\n",
       "</div>"
      ],
      "text/plain": [
       "                         0\n",
       "budget                   0\n",
       "genres                   0\n",
       "homepage              3096\n",
       "id                       0\n",
       "keywords                 0\n",
       "original_language        0\n",
       "original_title           0\n",
       "overview                 3\n",
       "popularity               0\n",
       "production_companies     0\n",
       "production_countries     0\n",
       "release_date             1\n",
       "revenue                  0\n",
       "runtime                  2\n",
       "spoken_languages         0\n",
       "status                   0\n",
       "tagline                844\n",
       "title                    0\n",
       "vote_average             0\n",
       "vote_count               0\n",
       "movie_id                 0\n",
       "cast                     0\n",
       "crew                     0"
      ]
     },
     "execution_count": 6,
     "metadata": {},
     "output_type": "execute_result"
    }
   ],
   "source": [
    "movies.isna().sum().to_frame()\n",
    "# movies.isnull().sum()"
   ]
  },
  {
   "cell_type": "markdown",
   "id": "64ccd6cc",
   "metadata": {
    "papermill": {
     "duration": 0.019168,
     "end_time": "2022-10-10T21:47:13.350827",
     "exception": false,
     "start_time": "2022-10-10T21:47:13.331659",
     "status": "completed"
    },
    "tags": []
   },
   "source": [
    "# Details Analysis"
   ]
  },
  {
   "cell_type": "code",
   "execution_count": 7,
   "id": "f8486c63",
   "metadata": {
    "execution": {
     "iopub.execute_input": "2022-10-10T21:47:13.392316Z",
     "iopub.status.busy": "2022-10-10T21:47:13.391228Z",
     "iopub.status.idle": "2022-10-10T21:47:13.408888Z",
     "shell.execute_reply": "2022-10-10T21:47:13.407750Z"
    },
    "papermill": {
     "duration": 0.041532,
     "end_time": "2022-10-10T21:47:13.411704",
     "exception": false,
     "start_time": "2022-10-10T21:47:13.370172",
     "status": "completed"
    },
    "tags": []
   },
   "outputs": [
    {
     "name": "stdout",
     "output_type": "stream",
     "text": [
      "Number of observetion: 4809\n",
      "Number of features: 23\n",
      "------------------------------------------------------------\n",
      "Categorical Features: Index(['genres', 'homepage', 'keywords', 'original_language', 'original_title',\n",
      "       'overview', 'production_companies', 'production_countries',\n",
      "       'release_date', 'spoken_languages', 'status', 'tagline', 'title',\n",
      "       'cast', 'crew'],\n",
      "      dtype='object')\n",
      "\n",
      "Numerical Features: Index(['budget', 'id', 'popularity', 'revenue', 'runtime', 'vote_average',\n",
      "       'vote_count', 'movie_id'],\n",
      "      dtype='object')\n"
     ]
    }
   ],
   "source": [
    "def overview_dataset(df):\n",
    "    # Observetions\n",
    "    print(\"Number of observetion:\", df.shape[0])\n",
    "    # Features\n",
    "    print(\"Number of features:\", df.shape[1])\n",
    "    print(\"-\"*60)\n",
    "    #Categorical Features\n",
    "    print(\"Categorical Features:\", df.select_dtypes(include = [object]).columns)\n",
    "    print(\"\")\n",
    "    # Numerical Features\n",
    "    print(\"Numerical Features:\", df.select_dtypes(include = [int,float]).columns)\n",
    "    \n",
    "overview_dataset(movies)"
   ]
  },
  {
   "cell_type": "code",
   "execution_count": 8,
   "id": "52a9244c",
   "metadata": {
    "execution": {
     "iopub.execute_input": "2022-10-10T21:47:13.454203Z",
     "iopub.status.busy": "2022-10-10T21:47:13.453793Z",
     "iopub.status.idle": "2022-10-10T21:47:13.970664Z",
     "shell.execute_reply": "2022-10-10T21:47:13.969359Z"
    },
    "papermill": {
     "duration": 0.542156,
     "end_time": "2022-10-10T21:47:13.973854",
     "exception": false,
     "start_time": "2022-10-10T21:47:13.431698",
     "status": "completed"
    },
    "tags": []
   },
   "outputs": [
    {
     "data": {
      "image/png": "[encoded data removed]",
      "text/plain": [
       "<Figure size 1008x360 with 1 Axes>"
      ]
     },
     "metadata": {
      "needs_background": "light"
     },
     "output_type": "display_data"
    }
   ],
   "source": [
    "def describe_plot(df):\n",
    "    numerical_col = df.select_dtypes(include = [int,float]).columns\n",
    "    describe_numcol_values = df[numerical_col].describe().T\n",
    "    \n",
    "    plt.figure(figsize = (14,5))\n",
    "    sns.heatmap(describe_numcol_values,\n",
    "                annot = True,\n",
    "                cmap = \"Reds\",\n",
    "                fmt= '.2f',\n",
    "                linecolor = 'white',\n",
    "                linewidths = 1.35,\n",
    "                cbar = False,\n",
    "                annot_kws = {\"size\": 14})\n",
    "    plt.title(\"Numerical Variables Descriptive Statistics\" , fontsize = 20)\n",
    "    plt.show()\n",
    "describe_plot(movies)"
   ]
  },
  {
   "cell_type": "markdown",
   "id": "c4f67519",
   "metadata": {
    "papermill": {
     "duration": 0.021235,
     "end_time": "2022-10-10T21:47:14.016380",
     "exception": false,
     "start_time": "2022-10-10T21:47:13.995145",
     "status": "completed"
    },
    "tags": []
   },
   "source": [
    "# Categorical Variables - Describe"
   ]
  },
  {
   "cell_type": "code",
   "execution_count": 9,
   "id": "d560d456",
   "metadata": {
    "execution": {
     "iopub.execute_input": "2022-10-10T21:47:14.060848Z",
     "iopub.status.busy": "2022-10-10T21:47:14.060138Z",
     "iopub.status.idle": "2022-10-10T21:47:14.150646Z",
     "shell.execute_reply": "2022-10-10T21:47:14.149390Z"
    },
    "papermill": {
     "duration": 0.11559,
     "end_time": "2022-10-10T21:47:14.152963",
     "exception": false,
     "start_time": "2022-10-10T21:47:14.037373",
     "status": "completed"
    },
    "tags": []
   },
   "outputs": [
    {
     "data": {
      "text/html": [
       "<div>\n",
       "<style scoped>\n",
       "    .dataframe tbody tr th:only-of-type {\n",
       "        vertical-align: middle;\n",
       "    }\n",
       "\n",
       "    .dataframe tbody tr th {\n",
       "        vertical-align: top;\n",
       "    }\n",
       "\n",
       "    .dataframe thead th {\n",
       "        text-align: right;\n",
       "    }\n",
       "</style>\n",
       "<table border=\"1\" class=\"dataframe\">\n",
       "  <thead>\n",
       "    <tr style=\"text-align: right;\">\n",
       "      <th></th>\n",
       "      <th>count</th>\n",
       "      <th>unique</th>\n",
       "      <th>top</th>\n",
       "      <th>freq</th>\n",
       "    </tr>\n",
       "  </thead>\n",
       "  <tbody>\n",
       "    <tr>\n",
       "      <th>genres</th>\n",
       "      <td>4809</td>\n",
       "      <td>1175</td>\n",
       "      <td>[{\"id\": 18, \"name\": \"Drama\"}]</td>\n",
       "      <td>372</td>\n",
       "    </tr>\n",
       "    <tr>\n",
       "      <th>homepage</th>\n",
       "      <td>1713</td>\n",
       "      <td>1691</td>\n",
       "      <td>http://www.missionimpossible.com/</td>\n",
       "      <td>4</td>\n",
       "    </tr>\n",
       "    <tr>\n",
       "      <th>keywords</th>\n",
       "      <td>4809</td>\n",
       "      <td>4222</td>\n",
       "      <td>[]</td>\n",
       "      <td>412</td>\n",
       "    </tr>\n",
       "    <tr>\n",
       "      <th>original_language</th>\n",
       "      <td>4809</td>\n",
       "      <td>37</td>\n",
       "      <td>en</td>\n",
       "      <td>4510</td>\n",
       "    </tr>\n",
       "    <tr>\n",
       "      <th>original_title</th>\n",
       "      <td>4809</td>\n",
       "      <td>4801</td>\n",
       "      <td>Out of the Blue</td>\n",
       "      <td>4</td>\n",
       "    </tr>\n",
       "    <tr>\n",
       "      <th>overview</th>\n",
       "      <td>4806</td>\n",
       "      <td>4800</td>\n",
       "      <td>Gang-du is a dim-witted man working at his fat...</td>\n",
       "      <td>2</td>\n",
       "    </tr>\n",
       "    <tr>\n",
       "      <th>production_companies</th>\n",
       "      <td>4809</td>\n",
       "      <td>3697</td>\n",
       "      <td>[]</td>\n",
       "      <td>352</td>\n",
       "    </tr>\n",
       "    <tr>\n",
       "      <th>production_countries</th>\n",
       "      <td>4809</td>\n",
       "      <td>469</td>\n",
       "      <td>[{\"iso_3166_1\": \"US\", \"name\": \"United States o...</td>\n",
       "      <td>2979</td>\n",
       "    </tr>\n",
       "    <tr>\n",
       "      <th>release_date</th>\n",
       "      <td>4808</td>\n",
       "      <td>3280</td>\n",
       "      <td>2006-01-01</td>\n",
       "      <td>10</td>\n",
       "    </tr>\n",
       "    <tr>\n",
       "      <th>spoken_languages</th>\n",
       "      <td>4809</td>\n",
       "      <td>544</td>\n",
       "      <td>[{\"iso_639_1\": \"en\", \"name\": \"English\"}]</td>\n",
       "      <td>3175</td>\n",
       "    </tr>\n",
       "    <tr>\n",
       "      <th>status</th>\n",
       "      <td>4809</td>\n",
       "      <td>3</td>\n",
       "      <td>Released</td>\n",
       "      <td>4801</td>\n",
       "    </tr>\n",
       "    <tr>\n",
       "      <th>tagline</th>\n",
       "      <td>3965</td>\n",
       "      <td>3944</td>\n",
       "      <td>Based on a true story.</td>\n",
       "      <td>3</td>\n",
       "    </tr>\n",
       "    <tr>\n",
       "      <th>title</th>\n",
       "      <td>4809</td>\n",
       "      <td>4800</td>\n",
       "      <td>The Host</td>\n",
       "      <td>4</td>\n",
       "    </tr>\n",
       "    <tr>\n",
       "      <th>cast</th>\n",
       "      <td>4809</td>\n",
       "      <td>4761</td>\n",
       "      <td>[]</td>\n",
       "      <td>43</td>\n",
       "    </tr>\n",
       "    <tr>\n",
       "      <th>crew</th>\n",
       "      <td>4809</td>\n",
       "      <td>4776</td>\n",
       "      <td>[]</td>\n",
       "      <td>28</td>\n",
       "    </tr>\n",
       "  </tbody>\n",
       "</table>\n",
       "</div>"
      ],
      "text/plain": [
       "                     count unique  \\\n",
       "genres                4809   1175   \n",
       "homepage              1713   1691   \n",
       "keywords              4809   4222   \n",
       "original_language     4809     37   \n",
       "original_title        4809   4801   \n",
       "overview              4806   4800   \n",
       "production_companies  4809   3697   \n",
       "production_countries  4809    469   \n",
       "release_date          4808   3280   \n",
       "spoken_languages      4809    544   \n",
       "status                4809      3   \n",
       "tagline               3965   3944   \n",
       "title                 4809   4800   \n",
       "cast                  4809   4761   \n",
       "crew                  4809   4776   \n",
       "\n",
       "                                                                    top  freq  \n",
       "genres                                    [{\"id\": 18, \"name\": \"Drama\"}]   372  \n",
       "homepage                              http://www.missionimpossible.com/     4  \n",
       "keywords                                                             []   412  \n",
       "original_language                                                    en  4510  \n",
       "original_title                                          Out of the Blue     4  \n",
       "overview              Gang-du is a dim-witted man working at his fat...     2  \n",
       "production_companies                                                 []   352  \n",
       "production_countries  [{\"iso_3166_1\": \"US\", \"name\": \"United States o...  2979  \n",
       "release_date                                                 2006-01-01    10  \n",
       "spoken_languages               [{\"iso_639_1\": \"en\", \"name\": \"English\"}]  3175  \n",
       "status                                                         Released  4801  \n",
       "tagline                                          Based on a true story.     3  \n",
       "title                                                          The Host     4  \n",
       "cast                                                                 []    43  \n",
       "crew                                                                 []    28  "
      ]
     },
     "execution_count": 9,
     "metadata": {},
     "output_type": "execute_result"
    }
   ],
   "source": [
    "movies[movies.select_dtypes(include=[object]).columns].describe().T"
   ]
  },
  {
   "cell_type": "markdown",
   "id": "ffb413f8",
   "metadata": {
    "papermill": {
     "duration": 0.020623,
     "end_time": "2022-10-10T21:47:14.194769",
     "exception": false,
     "start_time": "2022-10-10T21:47:14.174146",
     "status": "completed"
    },
    "tags": []
   },
   "source": [
    "# Drop unimportant columns"
   ]
  },
  {
   "cell_type": "code",
   "execution_count": 10,
   "id": "87c9079e",
   "metadata": {
    "execution": {
     "iopub.execute_input": "2022-10-10T21:47:14.239046Z",
     "iopub.status.busy": "2022-10-10T21:47:14.238366Z",
     "iopub.status.idle": "2022-10-10T21:47:14.246326Z",
     "shell.execute_reply": "2022-10-10T21:47:14.245528Z"
    },
    "papermill": {
     "duration": 0.032677,
     "end_time": "2022-10-10T21:47:14.248752",
     "exception": false,
     "start_time": "2022-10-10T21:47:14.216075",
     "status": "completed"
    },
    "tags": []
   },
   "outputs": [],
   "source": [
    "movies = movies.drop(columns = ['homepage', 'tagline','status','production_countries' , 'release_date'] )"
   ]
  },
  {
   "cell_type": "code",
   "execution_count": 11,
   "id": "c13141f4",
   "metadata": {
    "execution": {
     "iopub.execute_input": "2022-10-10T21:47:14.293599Z",
     "iopub.status.busy": "2022-10-10T21:47:14.292919Z",
     "iopub.status.idle": "2022-10-10T21:47:14.310891Z",
     "shell.execute_reply": "2022-10-10T21:47:14.309687Z"
    },
    "papermill": {
     "duration": 0.0432,
     "end_time": "2022-10-10T21:47:14.313404",
     "exception": false,
     "start_time": "2022-10-10T21:47:14.270204",
     "status": "completed"
    },
    "tags": []
   },
   "outputs": [
    {
     "name": "stdout",
     "output_type": "stream",
     "text": [
      "<class 'pandas.core.frame.DataFrame'>\n",
      "Int64Index: 4809 entries, 0 to 4808\n",
      "Data columns (total 18 columns):\n",
      " #   Column                Non-Null Count  Dtype  \n",
      "---  ------                --------------  -----  \n",
      " 0   budget                4809 non-null   int64  \n",
      " 1   genres                4809 non-null   object \n",
      " 2   id                    4809 non-null   int64  \n",
      " 3   keywords              4809 non-null   object \n",
      " 4   original_language     4809 non-null   object \n",
      " 5   original_title        4809 non-null   object \n",
      " 6   overview              4806 non-null   object \n",
      " 7   popularity            4809 non-null   float64\n",
      " 8   production_companies  4809 non-null   object \n",
      " 9   revenue               4809 non-null   int64  \n",
      " 10  runtime               4807 non-null   float64\n",
      " 11  spoken_languages      4809 non-null   object \n",
      " 12  title                 4809 non-null   object \n",
      " 13  vote_average          4809 non-null   float64\n",
      " 14  vote_count            4809 non-null   int64  \n",
      " 15  movie_id              4809 non-null   int64  \n",
      " 16  cast                  4809 non-null   object \n",
      " 17  crew                  4809 non-null   object \n",
      "dtypes: float64(3), int64(5), object(10)\n",
      "memory usage: 713.8+ KB\n"
     ]
    }
   ],
   "source": [
    "movies.info()"
   ]
  },
  {
   "cell_type": "markdown",
   "id": "7221c2d7",
   "metadata": {
    "papermill": {
     "duration": 0.020458,
     "end_time": "2022-10-10T21:47:14.354858",
     "exception": false,
     "start_time": "2022-10-10T21:47:14.334400",
     "status": "completed"
    },
    "tags": []
   },
   "source": [
    "# Weighted Average\n",
    "\n",
    "**Weighted average is a calculation that takes into account the varying degrees of importance of the numbers in a data set. In calculating a weighted average, each number in the data set is multiplied by a predetermined weight before the final calculation is made.**\n",
    "\n",
    "**A weighted average can be more accurate than a simple average in which all numbers in a data set are assigned an identical weight**\n",
    "\n",
    "v = The number of voters\n",
    "R = Average vote for the movie\n",
    "C = The average of the whole average column =~6.9\n",
    "m = minimum votes required to be listed"
   ]
  },
  {
   "cell_type": "code",
   "execution_count": 12,
   "id": "308bb37b",
   "metadata": {
    "execution": {
     "iopub.execute_input": "2022-10-10T21:47:14.399157Z",
     "iopub.status.busy": "2022-10-10T21:47:14.398594Z",
     "iopub.status.idle": "2022-10-10T21:47:14.406521Z",
     "shell.execute_reply": "2022-10-10T21:47:14.405428Z"
    },
    "papermill": {
     "duration": 0.033528,
     "end_time": "2022-10-10T21:47:14.409090",
     "exception": false,
     "start_time": "2022-10-10T21:47:14.375562",
     "status": "completed"
    },
    "tags": []
   },
   "outputs": [],
   "source": [
    "v = movies['vote_count']\n",
    "R = movies['vote_average']\n",
    "C = movies['vote_average'].mean()\n",
    "m = movies['vote_count'].quantile(0.70)"
   ]
  },
  {
   "cell_type": "code",
   "execution_count": 13,
   "id": "9562c940",
   "metadata": {
    "execution": {
     "iopub.execute_input": "2022-10-10T21:47:14.453430Z",
     "iopub.status.busy": "2022-10-10T21:47:14.452881Z",
     "iopub.status.idle": "2022-10-10T21:47:14.460392Z",
     "shell.execute_reply": "2022-10-10T21:47:14.459206Z"
    },
    "papermill": {
     "duration": 0.032968,
     "end_time": "2022-10-10T21:47:14.463083",
     "exception": false,
     "start_time": "2022-10-10T21:47:14.430115",
     "status": "completed"
    },
    "tags": []
   },
   "outputs": [],
   "source": [
    "movies['Weighted_avg'] = ((R*v)+(C*m)) / (v+m)"
   ]
  },
  {
   "cell_type": "code",
   "execution_count": 14,
   "id": "8ad672a3",
   "metadata": {
    "execution": {
     "iopub.execute_input": "2022-10-10T21:47:14.507222Z",
     "iopub.status.busy": "2022-10-10T21:47:14.506388Z",
     "iopub.status.idle": "2022-10-10T21:47:14.540190Z",
     "shell.execute_reply": "2022-10-10T21:47:14.538917Z"
    },
    "papermill": {
     "duration": 0.059017,
     "end_time": "2022-10-10T21:47:14.542976",
     "exception": false,
     "start_time": "2022-10-10T21:47:14.483959",
     "status": "completed"
    },
    "tags": []
   },
   "outputs": [
    {
     "data": {
      "text/html": [
       "<div>\n",
       "<style scoped>\n",
       "    .dataframe tbody tr th:only-of-type {\n",
       "        vertical-align: middle;\n",
       "    }\n",
       "\n",
       "    .dataframe tbody tr th {\n",
       "        vertical-align: top;\n",
       "    }\n",
       "\n",
       "    .dataframe thead th {\n",
       "        text-align: right;\n",
       "    }\n",
       "</style>\n",
       "<table border=\"1\" class=\"dataframe\">\n",
       "  <thead>\n",
       "    <tr style=\"text-align: right;\">\n",
       "      <th></th>\n",
       "      <th>budget</th>\n",
       "      <th>genres</th>\n",
       "      <th>id</th>\n",
       "      <th>keywords</th>\n",
       "      <th>original_language</th>\n",
       "      <th>original_title</th>\n",
       "      <th>overview</th>\n",
       "      <th>popularity</th>\n",
       "      <th>production_companies</th>\n",
       "      <th>revenue</th>\n",
       "      <th>runtime</th>\n",
       "      <th>spoken_languages</th>\n",
       "      <th>title</th>\n",
       "      <th>vote_average</th>\n",
       "      <th>vote_count</th>\n",
       "      <th>movie_id</th>\n",
       "      <th>cast</th>\n",
       "      <th>crew</th>\n",
       "      <th>Weighted_avg</th>\n",
       "    </tr>\n",
       "  </thead>\n",
       "  <tbody>\n",
       "    <tr>\n",
       "      <th>0</th>\n",
       "      <td>237000000</td>\n",
       "      <td>[{\"id\": 28, \"name\": \"Action\"}, {\"id\": 12, \"nam...</td>\n",
       "      <td>19995</td>\n",
       "      <td>[{\"id\": 1463, \"name\": \"culture clash\"}, {\"id\":...</td>\n",
       "      <td>en</td>\n",
       "      <td>Avatar</td>\n",
       "      <td>In the 22nd century, a paraplegic Marine is di...</td>\n",
       "      <td>150.437577</td>\n",
       "      <td>[{\"name\": \"Ingenious Film Partners\", \"id\": 289...</td>\n",
       "      <td>2787965087</td>\n",
       "      <td>162.0</td>\n",
       "      <td>[{\"iso_639_1\": \"en\", \"name\": \"English\"}, {\"iso...</td>\n",
       "      <td>Avatar</td>\n",
       "      <td>7.2</td>\n",
       "      <td>11800</td>\n",
       "      <td>19995</td>\n",
       "      <td>[{\"cast_id\": 242, \"character\": \"Jake Sully\", \"...</td>\n",
       "      <td>[{\"credit_id\": \"52fe48009251416c750aca23\", \"de...</td>\n",
       "      <td>7.148029</td>\n",
       "    </tr>\n",
       "    <tr>\n",
       "      <th>1</th>\n",
       "      <td>300000000</td>\n",
       "      <td>[{\"id\": 12, \"name\": \"Adventure\"}, {\"id\": 14, \"...</td>\n",
       "      <td>285</td>\n",
       "      <td>[{\"id\": 270, \"name\": \"ocean\"}, {\"id\": 726, \"na...</td>\n",
       "      <td>en</td>\n",
       "      <td>Pirates of the Caribbean: At World's End</td>\n",
       "      <td>Captain Barbossa, long believed to be dead, ha...</td>\n",
       "      <td>139.082615</td>\n",
       "      <td>[{\"name\": \"Walt Disney Pictures\", \"id\": 2}, {\"...</td>\n",
       "      <td>961000000</td>\n",
       "      <td>169.0</td>\n",
       "      <td>[{\"iso_639_1\": \"en\", \"name\": \"English\"}]</td>\n",
       "      <td>Pirates of the Caribbean: At World's End</td>\n",
       "      <td>6.9</td>\n",
       "      <td>4500</td>\n",
       "      <td>285</td>\n",
       "      <td>[{\"cast_id\": 4, \"character\": \"Captain Jack Spa...</td>\n",
       "      <td>[{\"credit_id\": \"52fe4232c3a36847f800b579\", \"de...</td>\n",
       "      <td>6.807666</td>\n",
       "    </tr>\n",
       "    <tr>\n",
       "      <th>2</th>\n",
       "      <td>245000000</td>\n",
       "      <td>[{\"id\": 28, \"name\": \"Action\"}, {\"id\": 12, \"nam...</td>\n",
       "      <td>206647</td>\n",
       "      <td>[{\"id\": 470, \"name\": \"spy\"}, {\"id\": 818, \"name...</td>\n",
       "      <td>en</td>\n",
       "      <td>Spectre</td>\n",
       "      <td>A cryptic message from Bond’s past sends him o...</td>\n",
       "      <td>107.376788</td>\n",
       "      <td>[{\"name\": \"Columbia Pictures\", \"id\": 5}, {\"nam...</td>\n",
       "      <td>880674609</td>\n",
       "      <td>148.0</td>\n",
       "      <td>[{\"iso_639_1\": \"fr\", \"name\": \"Fran\\u00e7ais\"},...</td>\n",
       "      <td>Spectre</td>\n",
       "      <td>6.3</td>\n",
       "      <td>4466</td>\n",
       "      <td>206647</td>\n",
       "      <td>[{\"cast_id\": 1, \"character\": \"James Bond\", \"cr...</td>\n",
       "      <td>[{\"credit_id\": \"54805967c3a36829b5002c41\", \"de...</td>\n",
       "      <td>6.276115</td>\n",
       "    </tr>\n",
       "    <tr>\n",
       "      <th>3</th>\n",
       "      <td>250000000</td>\n",
       "      <td>[{\"id\": 28, \"name\": \"Action\"}, {\"id\": 80, \"nam...</td>\n",
       "      <td>49026</td>\n",
       "      <td>[{\"id\": 849, \"name\": \"dc comics\"}, {\"id\": 853,...</td>\n",
       "      <td>en</td>\n",
       "      <td>The Dark Knight Rises</td>\n",
       "      <td>Following the death of District Attorney Harve...</td>\n",
       "      <td>112.312950</td>\n",
       "      <td>[{\"name\": \"Legendary Pictures\", \"id\": 923}, {\"...</td>\n",
       "      <td>1084939099</td>\n",
       "      <td>165.0</td>\n",
       "      <td>[{\"iso_639_1\": \"en\", \"name\": \"English\"}]</td>\n",
       "      <td>The Dark Knight Rises</td>\n",
       "      <td>7.6</td>\n",
       "      <td>9106</td>\n",
       "      <td>49026</td>\n",
       "      <td>[{\"cast_id\": 2, \"character\": \"Bruce Wayne / Ba...</td>\n",
       "      <td>[{\"credit_id\": \"52fe4781c3a36847f81398c3\", \"de...</td>\n",
       "      <td>7.509585</td>\n",
       "    </tr>\n",
       "    <tr>\n",
       "      <th>4</th>\n",
       "      <td>260000000</td>\n",
       "      <td>[{\"id\": 28, \"name\": \"Action\"}, {\"id\": 12, \"nam...</td>\n",
       "      <td>49529</td>\n",
       "      <td>[{\"id\": 818, \"name\": \"based on novel\"}, {\"id\":...</td>\n",
       "      <td>en</td>\n",
       "      <td>John Carter</td>\n",
       "      <td>John Carter is a war-weary, former military ca...</td>\n",
       "      <td>43.926995</td>\n",
       "      <td>[{\"name\": \"Walt Disney Pictures\", \"id\": 2}]</td>\n",
       "      <td>284139100</td>\n",
       "      <td>132.0</td>\n",
       "      <td>[{\"iso_639_1\": \"en\", \"name\": \"English\"}]</td>\n",
       "      <td>John Carter</td>\n",
       "      <td>6.1</td>\n",
       "      <td>2124</td>\n",
       "      <td>49529</td>\n",
       "      <td>[{\"cast_id\": 5, \"character\": \"John Carter\", \"c...</td>\n",
       "      <td>[{\"credit_id\": \"52fe479ac3a36847f813eaa3\", \"de...</td>\n",
       "      <td>6.098392</td>\n",
       "    </tr>\n",
       "    <tr>\n",
       "      <th>...</th>\n",
       "      <td>...</td>\n",
       "      <td>...</td>\n",
       "      <td>...</td>\n",
       "      <td>...</td>\n",
       "      <td>...</td>\n",
       "      <td>...</td>\n",
       "      <td>...</td>\n",
       "      <td>...</td>\n",
       "      <td>...</td>\n",
       "      <td>...</td>\n",
       "      <td>...</td>\n",
       "      <td>...</td>\n",
       "      <td>...</td>\n",
       "      <td>...</td>\n",
       "      <td>...</td>\n",
       "      <td>...</td>\n",
       "      <td>...</td>\n",
       "      <td>...</td>\n",
       "      <td>...</td>\n",
       "    </tr>\n",
       "    <tr>\n",
       "      <th>4804</th>\n",
       "      <td>220000</td>\n",
       "      <td>[{\"id\": 28, \"name\": \"Action\"}, {\"id\": 80, \"nam...</td>\n",
       "      <td>9367</td>\n",
       "      <td>[{\"id\": 5616, \"name\": \"united states\\u2013mexi...</td>\n",
       "      <td>es</td>\n",
       "      <td>El Mariachi</td>\n",
       "      <td>El Mariachi just wants to play his guitar and ...</td>\n",
       "      <td>14.269792</td>\n",
       "      <td>[{\"name\": \"Columbia Pictures\", \"id\": 5}]</td>\n",
       "      <td>2040920</td>\n",
       "      <td>81.0</td>\n",
       "      <td>[{\"iso_639_1\": \"es\", \"name\": \"Espa\\u00f1ol\"}]</td>\n",
       "      <td>El Mariachi</td>\n",
       "      <td>6.6</td>\n",
       "      <td>238</td>\n",
       "      <td>9367</td>\n",
       "      <td>[{\"cast_id\": 1, \"character\": \"El Mariachi\", \"c...</td>\n",
       "      <td>[{\"credit_id\": \"52fe44eec3a36847f80b280b\", \"de...</td>\n",
       "      <td>6.239989</td>\n",
       "    </tr>\n",
       "    <tr>\n",
       "      <th>4805</th>\n",
       "      <td>9000</td>\n",
       "      <td>[{\"id\": 35, \"name\": \"Comedy\"}, {\"id\": 10749, \"...</td>\n",
       "      <td>72766</td>\n",
       "      <td>[]</td>\n",
       "      <td>en</td>\n",
       "      <td>Newlyweds</td>\n",
       "      <td>A newlywed couple's honeymoon is upended by th...</td>\n",
       "      <td>0.642552</td>\n",
       "      <td>[]</td>\n",
       "      <td>0</td>\n",
       "      <td>85.0</td>\n",
       "      <td>[]</td>\n",
       "      <td>Newlyweds</td>\n",
       "      <td>5.9</td>\n",
       "      <td>5</td>\n",
       "      <td>72766</td>\n",
       "      <td>[{\"cast_id\": 1, \"character\": \"Buzzy\", \"credit_...</td>\n",
       "      <td>[{\"credit_id\": \"52fe487dc3a368484e0fb013\", \"de...</td>\n",
       "      <td>6.090871</td>\n",
       "    </tr>\n",
       "    <tr>\n",
       "      <th>4806</th>\n",
       "      <td>0</td>\n",
       "      <td>[{\"id\": 35, \"name\": \"Comedy\"}, {\"id\": 18, \"nam...</td>\n",
       "      <td>231617</td>\n",
       "      <td>[{\"id\": 248, \"name\": \"date\"}, {\"id\": 699, \"nam...</td>\n",
       "      <td>en</td>\n",
       "      <td>Signed, Sealed, Delivered</td>\n",
       "      <td>\"Signed, Sealed, Delivered\" introduces a dedic...</td>\n",
       "      <td>1.444476</td>\n",
       "      <td>[{\"name\": \"Front Street Pictures\", \"id\": 3958}...</td>\n",
       "      <td>0</td>\n",
       "      <td>120.0</td>\n",
       "      <td>[{\"iso_639_1\": \"en\", \"name\": \"English\"}]</td>\n",
       "      <td>Signed, Sealed, Delivered</td>\n",
       "      <td>7.0</td>\n",
       "      <td>6</td>\n",
       "      <td>231617</td>\n",
       "      <td>[{\"cast_id\": 8, \"character\": \"Oliver O\\u2019To...</td>\n",
       "      <td>[{\"credit_id\": \"52fe4df3c3a36847f8275ecf\", \"de...</td>\n",
       "      <td>6.101790</td>\n",
       "    </tr>\n",
       "    <tr>\n",
       "      <th>4807</th>\n",
       "      <td>0</td>\n",
       "      <td>[]</td>\n",
       "      <td>126186</td>\n",
       "      <td>[]</td>\n",
       "      <td>en</td>\n",
       "      <td>Shanghai Calling</td>\n",
       "      <td>When ambitious New York attorney Sam is sent t...</td>\n",
       "      <td>0.857008</td>\n",
       "      <td>[]</td>\n",
       "      <td>0</td>\n",
       "      <td>98.0</td>\n",
       "      <td>[{\"iso_639_1\": \"en\", \"name\": \"English\"}]</td>\n",
       "      <td>Shanghai Calling</td>\n",
       "      <td>5.7</td>\n",
       "      <td>7</td>\n",
       "      <td>126186</td>\n",
       "      <td>[{\"cast_id\": 3, \"character\": \"Sam\", \"credit_id...</td>\n",
       "      <td>[{\"credit_id\": \"52fe4ad9c3a368484e16a36b\", \"de...</td>\n",
       "      <td>6.087841</td>\n",
       "    </tr>\n",
       "    <tr>\n",
       "      <th>4808</th>\n",
       "      <td>0</td>\n",
       "      <td>[{\"id\": 99, \"name\": \"Documentary\"}]</td>\n",
       "      <td>25975</td>\n",
       "      <td>[{\"id\": 1523, \"name\": \"obsession\"}, {\"id\": 224...</td>\n",
       "      <td>en</td>\n",
       "      <td>My Date with Drew</td>\n",
       "      <td>Ever since the second grade when he first saw ...</td>\n",
       "      <td>1.929883</td>\n",
       "      <td>[{\"name\": \"rusty bear entertainment\", \"id\": 87...</td>\n",
       "      <td>0</td>\n",
       "      <td>90.0</td>\n",
       "      <td>[{\"iso_639_1\": \"en\", \"name\": \"English\"}]</td>\n",
       "      <td>My Date with Drew</td>\n",
       "      <td>6.3</td>\n",
       "      <td>16</td>\n",
       "      <td>25975</td>\n",
       "      <td>[{\"cast_id\": 3, \"character\": \"Herself\", \"credi...</td>\n",
       "      <td>[{\"credit_id\": \"58ce021b9251415a390165d9\", \"de...</td>\n",
       "      <td>6.098075</td>\n",
       "    </tr>\n",
       "  </tbody>\n",
       "</table>\n",
       "<p>4809 rows × 19 columns</p>\n",
       "</div>"
      ],
      "text/plain": [
       "         budget                                             genres      id  \\\n",
       "0     237000000  [{\"id\": 28, \"name\": \"Action\"}, {\"id\": 12, \"nam...   19995   \n",
       "1     300000000  [{\"id\": 12, \"name\": \"Adventure\"}, {\"id\": 14, \"...     285   \n",
       "2     245000000  [{\"id\": 28, \"name\": \"Action\"}, {\"id\": 12, \"nam...  206647   \n",
       "3     250000000  [{\"id\": 28, \"name\": \"Action\"}, {\"id\": 80, \"nam...   49026   \n",
       "4     260000000  [{\"id\": 28, \"name\": \"Action\"}, {\"id\": 12, \"nam...   49529   \n",
       "...         ...                                                ...     ...   \n",
       "4804     220000  [{\"id\": 28, \"name\": \"Action\"}, {\"id\": 80, \"nam...    9367   \n",
       "4805       9000  [{\"id\": 35, \"name\": \"Comedy\"}, {\"id\": 10749, \"...   72766   \n",
       "4806          0  [{\"id\": 35, \"name\": \"Comedy\"}, {\"id\": 18, \"nam...  231617   \n",
       "4807          0                                                 []  126186   \n",
       "4808          0                [{\"id\": 99, \"name\": \"Documentary\"}]   25975   \n",
       "\n",
       "                                               keywords original_language  \\\n",
       "0     [{\"id\": 1463, \"name\": \"culture clash\"}, {\"id\":...                en   \n",
       "1     [{\"id\": 270, \"name\": \"ocean\"}, {\"id\": 726, \"na...                en   \n",
       "2     [{\"id\": 470, \"name\": \"spy\"}, {\"id\": 818, \"name...                en   \n",
       "3     [{\"id\": 849, \"name\": \"dc comics\"}, {\"id\": 853,...                en   \n",
       "4     [{\"id\": 818, \"name\": \"based on novel\"}, {\"id\":...                en   \n",
       "...                                                 ...               ...   \n",
       "4804  [{\"id\": 5616, \"name\": \"united states\\u2013mexi...                es   \n",
       "4805                                                 []                en   \n",
       "4806  [{\"id\": 248, \"name\": \"date\"}, {\"id\": 699, \"nam...                en   \n",
       "4807                                                 []                en   \n",
       "4808  [{\"id\": 1523, \"name\": \"obsession\"}, {\"id\": 224...                en   \n",
       "\n",
       "                                original_title  \\\n",
       "0                                       Avatar   \n",
       "1     Pirates of the Caribbean: At World's End   \n",
       "2                                      Spectre   \n",
       "3                        The Dark Knight Rises   \n",
       "4                                  John Carter   \n",
       "...                                        ...   \n",
       "4804                               El Mariachi   \n",
       "4805                                 Newlyweds   \n",
       "4806                 Signed, Sealed, Delivered   \n",
       "4807                          Shanghai Calling   \n",
       "4808                         My Date with Drew   \n",
       "\n",
       "                                               overview  popularity  \\\n",
       "0     In the 22nd century, a paraplegic Marine is di...  150.437577   \n",
       "1     Captain Barbossa, long believed to be dead, ha...  139.082615   \n",
       "2     A cryptic message from Bond’s past sends him o...  107.376788   \n",
       "3     Following the death of District Attorney Harve...  112.312950   \n",
       "4     John Carter is a war-weary, former military ca...   43.926995   \n",
       "...                                                 ...         ...   \n",
       "4804  El Mariachi just wants to play his guitar and ...   14.269792   \n",
       "4805  A newlywed couple's honeymoon is upended by th...    0.642552   \n",
       "4806  \"Signed, Sealed, Delivered\" introduces a dedic...    1.444476   \n",
       "4807  When ambitious New York attorney Sam is sent t...    0.857008   \n",
       "4808  Ever since the second grade when he first saw ...    1.929883   \n",
       "\n",
       "                                   production_companies     revenue  runtime  \\\n",
       "0     [{\"name\": \"Ingenious Film Partners\", \"id\": 289...  2787965087    162.0   \n",
       "1     [{\"name\": \"Walt Disney Pictures\", \"id\": 2}, {\"...   961000000    169.0   \n",
       "2     [{\"name\": \"Columbia Pictures\", \"id\": 5}, {\"nam...   880674609    148.0   \n",
       "3     [{\"name\": \"Legendary Pictures\", \"id\": 923}, {\"...  1084939099    165.0   \n",
       "4           [{\"name\": \"Walt Disney Pictures\", \"id\": 2}]   284139100    132.0   \n",
       "...                                                 ...         ...      ...   \n",
       "4804           [{\"name\": \"Columbia Pictures\", \"id\": 5}]     2040920     81.0   \n",
       "4805                                                 []           0     85.0   \n",
       "4806  [{\"name\": \"Front Street Pictures\", \"id\": 3958}...           0    120.0   \n",
       "4807                                                 []           0     98.0   \n",
       "4808  [{\"name\": \"rusty bear entertainment\", \"id\": 87...           0     90.0   \n",
       "\n",
       "                                       spoken_languages  \\\n",
       "0     [{\"iso_639_1\": \"en\", \"name\": \"English\"}, {\"iso...   \n",
       "1              [{\"iso_639_1\": \"en\", \"name\": \"English\"}]   \n",
       "2     [{\"iso_639_1\": \"fr\", \"name\": \"Fran\\u00e7ais\"},...   \n",
       "3              [{\"iso_639_1\": \"en\", \"name\": \"English\"}]   \n",
       "4              [{\"iso_639_1\": \"en\", \"name\": \"English\"}]   \n",
       "...                                                 ...   \n",
       "4804      [{\"iso_639_1\": \"es\", \"name\": \"Espa\\u00f1ol\"}]   \n",
       "4805                                                 []   \n",
       "4806           [{\"iso_639_1\": \"en\", \"name\": \"English\"}]   \n",
       "4807           [{\"iso_639_1\": \"en\", \"name\": \"English\"}]   \n",
       "4808           [{\"iso_639_1\": \"en\", \"name\": \"English\"}]   \n",
       "\n",
       "                                         title  vote_average  vote_count  \\\n",
       "0                                       Avatar           7.2       11800   \n",
       "1     Pirates of the Caribbean: At World's End           6.9        4500   \n",
       "2                                      Spectre           6.3        4466   \n",
       "3                        The Dark Knight Rises           7.6        9106   \n",
       "4                                  John Carter           6.1        2124   \n",
       "...                                        ...           ...         ...   \n",
       "4804                               El Mariachi           6.6         238   \n",
       "4805                                 Newlyweds           5.9           5   \n",
       "4806                 Signed, Sealed, Delivered           7.0           6   \n",
       "4807                          Shanghai Calling           5.7           7   \n",
       "4808                         My Date with Drew           6.3          16   \n",
       "\n",
       "      movie_id                                               cast  \\\n",
       "0        19995  [{\"cast_id\": 242, \"character\": \"Jake Sully\", \"...   \n",
       "1          285  [{\"cast_id\": 4, \"character\": \"Captain Jack Spa...   \n",
       "2       206647  [{\"cast_id\": 1, \"character\": \"James Bond\", \"cr...   \n",
       "3        49026  [{\"cast_id\": 2, \"character\": \"Bruce Wayne / Ba...   \n",
       "4        49529  [{\"cast_id\": 5, \"character\": \"John Carter\", \"c...   \n",
       "...        ...                                                ...   \n",
       "4804      9367  [{\"cast_id\": 1, \"character\": \"El Mariachi\", \"c...   \n",
       "4805     72766  [{\"cast_id\": 1, \"character\": \"Buzzy\", \"credit_...   \n",
       "4806    231617  [{\"cast_id\": 8, \"character\": \"Oliver O\\u2019To...   \n",
       "4807    126186  [{\"cast_id\": 3, \"character\": \"Sam\", \"credit_id...   \n",
       "4808     25975  [{\"cast_id\": 3, \"character\": \"Herself\", \"credi...   \n",
       "\n",
       "                                                   crew  Weighted_avg  \n",
       "0     [{\"credit_id\": \"52fe48009251416c750aca23\", \"de...      7.148029  \n",
       "1     [{\"credit_id\": \"52fe4232c3a36847f800b579\", \"de...      6.807666  \n",
       "2     [{\"credit_id\": \"54805967c3a36829b5002c41\", \"de...      6.276115  \n",
       "3     [{\"credit_id\": \"52fe4781c3a36847f81398c3\", \"de...      7.509585  \n",
       "4     [{\"credit_id\": \"52fe479ac3a36847f813eaa3\", \"de...      6.098392  \n",
       "...                                                 ...           ...  \n",
       "4804  [{\"credit_id\": \"52fe44eec3a36847f80b280b\", \"de...      6.239989  \n",
       "4805  [{\"credit_id\": \"52fe487dc3a368484e0fb013\", \"de...      6.090871  \n",
       "4806  [{\"credit_id\": \"52fe4df3c3a36847f8275ecf\", \"de...      6.101790  \n",
       "4807  [{\"credit_id\": \"52fe4ad9c3a368484e16a36b\", \"de...      6.087841  \n",
       "4808  [{\"credit_id\": \"58ce021b9251415a390165d9\", \"de...      6.098075  \n",
       "\n",
       "[4809 rows x 19 columns]"
      ]
     },
     "execution_count": 14,
     "metadata": {},
     "output_type": "execute_result"
    }
   ],
   "source": [
    "movies"
   ]
  },
  {
   "cell_type": "markdown",
   "id": "9036b7d7",
   "metadata": {
    "papermill": {
     "duration": 0.021783,
     "end_time": "2022-10-10T21:47:14.588155",
     "exception": false,
     "start_time": "2022-10-10T21:47:14.566372",
     "status": "completed"
    },
    "tags": []
   },
   "source": [
    "# Weight Avg wise storting"
   ]
  },
  {
   "cell_type": "code",
   "execution_count": 15,
   "id": "94e23636",
   "metadata": {
    "execution": {
     "iopub.execute_input": "2022-10-10T21:47:14.633861Z",
     "iopub.status.busy": "2022-10-10T21:47:14.633405Z",
     "iopub.status.idle": "2022-10-10T21:47:14.653678Z",
     "shell.execute_reply": "2022-10-10T21:47:14.652441Z"
    },
    "papermill": {
     "duration": 0.046309,
     "end_time": "2022-10-10T21:47:14.656405",
     "exception": false,
     "start_time": "2022-10-10T21:47:14.610096",
     "status": "completed"
    },
    "tags": []
   },
   "outputs": [
    {
     "data": {
      "text/html": [
       "<div>\n",
       "<style scoped>\n",
       "    .dataframe tbody tr th:only-of-type {\n",
       "        vertical-align: middle;\n",
       "    }\n",
       "\n",
       "    .dataframe tbody tr th {\n",
       "        vertical-align: top;\n",
       "    }\n",
       "\n",
       "    .dataframe thead th {\n",
       "        text-align: right;\n",
       "    }\n",
       "</style>\n",
       "<table border=\"1\" class=\"dataframe\">\n",
       "  <thead>\n",
       "    <tr style=\"text-align: right;\">\n",
       "      <th></th>\n",
       "      <th>original_title</th>\n",
       "      <th>vote_count</th>\n",
       "      <th>vote_average</th>\n",
       "      <th>Weighted_avg</th>\n",
       "      <th>popularity</th>\n",
       "    </tr>\n",
       "  </thead>\n",
       "  <tbody>\n",
       "    <tr>\n",
       "      <th>1887</th>\n",
       "      <td>The Shawshank Redemption</td>\n",
       "      <td>8205</td>\n",
       "      <td>8.5</td>\n",
       "      <td>8.340798</td>\n",
       "      <td>136.747729</td>\n",
       "    </tr>\n",
       "    <tr>\n",
       "      <th>3342</th>\n",
       "      <td>The Godfather</td>\n",
       "      <td>5893</td>\n",
       "      <td>8.4</td>\n",
       "      <td>8.192918</td>\n",
       "      <td>143.659698</td>\n",
       "    </tr>\n",
       "    <tr>\n",
       "      <th>662</th>\n",
       "      <td>Fight Club</td>\n",
       "      <td>9413</td>\n",
       "      <td>8.3</td>\n",
       "      <td>8.171668</td>\n",
       "      <td>146.757391</td>\n",
       "    </tr>\n",
       "    <tr>\n",
       "      <th>3237</th>\n",
       "      <td>Pulp Fiction</td>\n",
       "      <td>8428</td>\n",
       "      <td>8.3</td>\n",
       "      <td>8.157637</td>\n",
       "      <td>121.463076</td>\n",
       "    </tr>\n",
       "    <tr>\n",
       "      <th>65</th>\n",
       "      <td>The Dark Knight</td>\n",
       "      <td>12002</td>\n",
       "      <td>8.2</td>\n",
       "      <td>8.102690</td>\n",
       "      <td>187.322927</td>\n",
       "    </tr>\n",
       "    <tr>\n",
       "      <th>...</th>\n",
       "      <td>...</td>\n",
       "      <td>...</td>\n",
       "      <td>...</td>\n",
       "      <td>...</td>\n",
       "      <td>...</td>\n",
       "    </tr>\n",
       "    <tr>\n",
       "      <th>303</th>\n",
       "      <td>Catwoman</td>\n",
       "      <td>808</td>\n",
       "      <td>4.2</td>\n",
       "      <td>4.991613</td>\n",
       "      <td>32.271938</td>\n",
       "    </tr>\n",
       "    <tr>\n",
       "      <th>3753</th>\n",
       "      <td>The Boy Next Door</td>\n",
       "      <td>1022</td>\n",
       "      <td>4.1</td>\n",
       "      <td>4.822178</td>\n",
       "      <td>24.161735</td>\n",
       "    </tr>\n",
       "    <tr>\n",
       "      <th>210</th>\n",
       "      <td>Batman &amp; Robin</td>\n",
       "      <td>1418</td>\n",
       "      <td>4.2</td>\n",
       "      <td>4.750050</td>\n",
       "      <td>50.073575</td>\n",
       "    </tr>\n",
       "    <tr>\n",
       "      <th>242</th>\n",
       "      <td>Fantastic Four</td>\n",
       "      <td>2278</td>\n",
       "      <td>4.4</td>\n",
       "      <td>4.743949</td>\n",
       "      <td>38.126095</td>\n",
       "    </tr>\n",
       "    <tr>\n",
       "      <th>1658</th>\n",
       "      <td>Dragonball Evolution</td>\n",
       "      <td>462</td>\n",
       "      <td>2.9</td>\n",
       "      <td>4.678380</td>\n",
       "      <td>21.677732</td>\n",
       "    </tr>\n",
       "  </tbody>\n",
       "</table>\n",
       "<p>4809 rows × 5 columns</p>\n",
       "</div>"
      ],
      "text/plain": [
       "                original_title  vote_count  vote_average  Weighted_avg  \\\n",
       "1887  The Shawshank Redemption        8205           8.5      8.340798   \n",
       "3342             The Godfather        5893           8.4      8.192918   \n",
       "662                 Fight Club        9413           8.3      8.171668   \n",
       "3237              Pulp Fiction        8428           8.3      8.157637   \n",
       "65             The Dark Knight       12002           8.2      8.102690   \n",
       "...                        ...         ...           ...           ...   \n",
       "303                   Catwoman         808           4.2      4.991613   \n",
       "3753         The Boy Next Door        1022           4.1      4.822178   \n",
       "210             Batman & Robin        1418           4.2      4.750050   \n",
       "242             Fantastic Four        2278           4.4      4.743949   \n",
       "1658      Dragonball Evolution         462           2.9      4.678380   \n",
       "\n",
       "      popularity  \n",
       "1887  136.747729  \n",
       "3342  143.659698  \n",
       "662   146.757391  \n",
       "3237  121.463076  \n",
       "65    187.322927  \n",
       "...          ...  \n",
       "303    32.271938  \n",
       "3753   24.161735  \n",
       "210    50.073575  \n",
       "242    38.126095  \n",
       "1658   21.677732  \n",
       "\n",
       "[4809 rows x 5 columns]"
      ]
     },
     "execution_count": 15,
     "metadata": {},
     "output_type": "execute_result"
    }
   ],
   "source": [
    "movies_sorted = movies.sort_values('Weighted_avg',ascending = False )\n",
    "movies_sorted[['original_title','vote_count', 'vote_average' , 'Weighted_avg' ,'popularity']]"
   ]
  },
  {
   "cell_type": "markdown",
   "id": "739c3dd0",
   "metadata": {
    "papermill": {
     "duration": 0.022105,
     "end_time": "2022-10-10T21:47:14.701292",
     "exception": false,
     "start_time": "2022-10-10T21:47:14.679187",
     "status": "completed"
    },
    "tags": []
   },
   "source": [
    "# Top movies by rating"
   ]
  },
  {
   "cell_type": "code",
   "execution_count": 16,
   "id": "229ef3fb",
   "metadata": {
    "execution": {
     "iopub.execute_input": "2022-10-10T21:47:14.746988Z",
     "iopub.status.busy": "2022-10-10T21:47:14.746560Z",
     "iopub.status.idle": "2022-10-10T21:47:15.006928Z",
     "shell.execute_reply": "2022-10-10T21:47:15.005845Z"
    },
    "papermill": {
     "duration": 0.286567,
     "end_time": "2022-10-10T21:47:15.009688",
     "exception": false,
     "start_time": "2022-10-10T21:47:14.723121",
     "status": "completed"
    },
    "tags": []
   },
   "outputs": [
    {
     "data": {
      "text/plain": [
       "Text(0.5, 1.0, 'Movies by Weighted Avg Score')"
      ]
     },
     "execution_count": 16,
     "metadata": {},
     "output_type": "execute_result"
    },
    {
     "data": {
      "image/png": "[encoded data removed]",
      "text/plain": [
       "<Figure size 864x576 with 1 Axes>"
      ]
     },
     "metadata": {
      "needs_background": "light"
     },
     "output_type": "display_data"
    }
   ],
   "source": [
    "weight_avg = movies.sort_values('Weighted_avg',ascending = False)\n",
    "plt.figure(figsize = (12,8))\n",
    "sns.barplot(x = weight_avg['Weighted_avg'].head(10) , y = weight_avg['original_title'].head(10))\n",
    "plt.xlabel('Weighted Avg Rating')\n",
    "plt.ylabel('Movie name')\n",
    "plt.title('Movies by Weighted Avg Score')"
   ]
  },
  {
   "cell_type": "markdown",
   "id": "f0dad3c9",
   "metadata": {
    "papermill": {
     "duration": 0.025759,
     "end_time": "2022-10-10T21:47:15.058669",
     "exception": false,
     "start_time": "2022-10-10T21:47:15.032910",
     "status": "completed"
    },
    "tags": []
   },
   "source": [
    "# Top movies by popularity"
   ]
  },
  {
   "cell_type": "code",
   "execution_count": 17,
   "id": "e6bc005e",
   "metadata": {
    "execution": {
     "iopub.execute_input": "2022-10-10T21:47:15.106039Z",
     "iopub.status.busy": "2022-10-10T21:47:15.105294Z",
     "iopub.status.idle": "2022-10-10T21:47:15.349321Z",
     "shell.execute_reply": "2022-10-10T21:47:15.348477Z"
    },
    "papermill": {
     "duration": 0.270981,
     "end_time": "2022-10-10T21:47:15.352106",
     "exception": false,
     "start_time": "2022-10-10T21:47:15.081125",
     "status": "completed"
    },
    "tags": []
   },
   "outputs": [
    {
     "data": {
      "text/plain": [
       "Text(0.5, 1.0, 'Movies by Weighted Avg Score')"
      ]
     },
     "execution_count": 17,
     "metadata": {},
     "output_type": "execute_result"
    },
    {
     "data": {
      "image/png": "[encoded data removed]",
      "text/plain": [
       "<Figure size 864x576 with 1 Axes>"
      ]
     },
     "metadata": {
      "needs_background": "light"
     },
     "output_type": "display_data"
    }
   ],
   "source": [
    "popular = movies.sort_values('popularity',ascending = False)\n",
    "plt.figure(figsize = (12,8))\n",
    "sns.barplot(x = popular['popularity'].head(10) , y = popular['original_title'].head(10))\n",
    "plt.xlabel('popularity')\n",
    "plt.ylabel('Movie name')\n",
    "plt.title('Movies by Weighted Avg Score')"
   ]
  },
  {
   "cell_type": "markdown",
   "id": "a0074c8f",
   "metadata": {
    "papermill": {
     "duration": 0.024208,
     "end_time": "2022-10-10T21:47:15.399762",
     "exception": false,
     "start_time": "2022-10-10T21:47:15.375554",
     "status": "completed"
    },
    "tags": []
   },
   "source": [
    "# # Score calculatin\n",
    "\n",
    "**So we can't recommend movies based on rating(Weight Avg.) or popularity.\n",
    "we need to create a score base on these two features.**"
   ]
  },
  {
   "cell_type": "markdown",
   "id": "7af49fbe",
   "metadata": {
    "papermill": {
     "duration": 0.022915,
     "end_time": "2022-10-10T21:47:15.446106",
     "exception": false,
     "start_time": "2022-10-10T21:47:15.423191",
     "status": "completed"
    },
    "tags": []
   },
   "source": [
    "# Scaling\n",
    "There are big difference between weight Avg and popularity"
   ]
  },
  {
   "cell_type": "code",
   "execution_count": 18,
   "id": "7d3f9adf",
   "metadata": {
    "execution": {
     "iopub.execute_input": "2022-10-10T21:47:15.495618Z",
     "iopub.status.busy": "2022-10-10T21:47:15.495131Z",
     "iopub.status.idle": "2022-10-10T21:47:15.506482Z",
     "shell.execute_reply": "2022-10-10T21:47:15.505372Z"
    },
    "papermill": {
     "duration": 0.039192,
     "end_time": "2022-10-10T21:47:15.509016",
     "exception": false,
     "start_time": "2022-10-10T21:47:15.469824",
     "status": "completed"
    },
    "tags": []
   },
   "outputs": [],
   "source": [
    "from sklearn.preprocessing import MinMaxScaler\n",
    "scale = MinMaxScaler()\n",
    "normalized_df = scale.fit_transform(movies[['Weighted_avg' , 'popularity']])\n",
    "scaled_df = pd.DataFrame(normalized_df , columns = ['Weighted_avg' , 'popularity'])"
   ]
  },
  {
   "cell_type": "code",
   "execution_count": 19,
   "id": "eb4c412a",
   "metadata": {
    "execution": {
     "iopub.execute_input": "2022-10-10T21:47:15.559043Z",
     "iopub.status.busy": "2022-10-10T21:47:15.558173Z",
     "iopub.status.idle": "2022-10-10T21:47:15.570686Z",
     "shell.execute_reply": "2022-10-10T21:47:15.569528Z"
    },
    "papermill": {
     "duration": 0.040258,
     "end_time": "2022-10-10T21:47:15.573203",
     "exception": false,
     "start_time": "2022-10-10T21:47:15.532945",
     "status": "completed"
    },
    "tags": []
   },
   "outputs": [
    {
     "data": {
      "text/html": [
       "<div>\n",
       "<style scoped>\n",
       "    .dataframe tbody tr th:only-of-type {\n",
       "        vertical-align: middle;\n",
       "    }\n",
       "\n",
       "    .dataframe tbody tr th {\n",
       "        vertical-align: top;\n",
       "    }\n",
       "\n",
       "    .dataframe thead th {\n",
       "        text-align: right;\n",
       "    }\n",
       "</style>\n",
       "<table border=\"1\" class=\"dataframe\">\n",
       "  <thead>\n",
       "    <tr style=\"text-align: right;\">\n",
       "      <th></th>\n",
       "      <th>Weighted_avg</th>\n",
       "      <th>popularity</th>\n",
       "    </tr>\n",
       "  </thead>\n",
       "  <tbody>\n",
       "    <tr>\n",
       "      <th>0</th>\n",
       "      <td>0.674322</td>\n",
       "      <td>0.171815</td>\n",
       "    </tr>\n",
       "    <tr>\n",
       "      <th>1</th>\n",
       "      <td>0.581388</td>\n",
       "      <td>0.158846</td>\n",
       "    </tr>\n",
       "    <tr>\n",
       "      <th>2</th>\n",
       "      <td>0.436251</td>\n",
       "      <td>0.122635</td>\n",
       "    </tr>\n",
       "    <tr>\n",
       "      <th>3</th>\n",
       "      <td>0.773043</td>\n",
       "      <td>0.128272</td>\n",
       "    </tr>\n",
       "    <tr>\n",
       "      <th>4</th>\n",
       "      <td>0.387725</td>\n",
       "      <td>0.050169</td>\n",
       "    </tr>\n",
       "    <tr>\n",
       "      <th>...</th>\n",
       "      <td>...</td>\n",
       "      <td>...</td>\n",
       "    </tr>\n",
       "    <tr>\n",
       "      <th>4804</th>\n",
       "      <td>0.426387</td>\n",
       "      <td>0.016298</td>\n",
       "    </tr>\n",
       "    <tr>\n",
       "      <th>4805</th>\n",
       "      <td>0.385672</td>\n",
       "      <td>0.000734</td>\n",
       "    </tr>\n",
       "    <tr>\n",
       "      <th>4806</th>\n",
       "      <td>0.388653</td>\n",
       "      <td>0.001650</td>\n",
       "    </tr>\n",
       "    <tr>\n",
       "      <th>4807</th>\n",
       "      <td>0.384844</td>\n",
       "      <td>0.000979</td>\n",
       "    </tr>\n",
       "    <tr>\n",
       "      <th>4808</th>\n",
       "      <td>0.387639</td>\n",
       "      <td>0.002204</td>\n",
       "    </tr>\n",
       "  </tbody>\n",
       "</table>\n",
       "<p>4809 rows × 2 columns</p>\n",
       "</div>"
      ],
      "text/plain": [
       "      Weighted_avg  popularity\n",
       "0         0.674322    0.171815\n",
       "1         0.581388    0.158846\n",
       "2         0.436251    0.122635\n",
       "3         0.773043    0.128272\n",
       "4         0.387725    0.050169\n",
       "...            ...         ...\n",
       "4804      0.426387    0.016298\n",
       "4805      0.385672    0.000734\n",
       "4806      0.388653    0.001650\n",
       "4807      0.384844    0.000979\n",
       "4808      0.387639    0.002204\n",
       "\n",
       "[4809 rows x 2 columns]"
      ]
     },
     "execution_count": 19,
     "metadata": {},
     "output_type": "execute_result"
    }
   ],
   "source": [
    "scaled_df"
   ]
  },
  {
   "cell_type": "code",
   "execution_count": 20,
   "id": "f014fc09",
   "metadata": {
    "execution": {
     "iopub.execute_input": "2022-10-10T21:47:15.623303Z",
     "iopub.status.busy": "2022-10-10T21:47:15.622417Z",
     "iopub.status.idle": "2022-10-10T21:47:15.654031Z",
     "shell.execute_reply": "2022-10-10T21:47:15.652795Z"
    },
    "papermill": {
     "duration": 0.059244,
     "end_time": "2022-10-10T21:47:15.656628",
     "exception": false,
     "start_time": "2022-10-10T21:47:15.597384",
     "status": "completed"
    },
    "tags": []
   },
   "outputs": [
    {
     "data": {
      "text/html": [
       "<div>\n",
       "<style scoped>\n",
       "    .dataframe tbody tr th:only-of-type {\n",
       "        vertical-align: middle;\n",
       "    }\n",
       "\n",
       "    .dataframe tbody tr th {\n",
       "        vertical-align: top;\n",
       "    }\n",
       "\n",
       "    .dataframe thead th {\n",
       "        text-align: right;\n",
       "    }\n",
       "</style>\n",
       "<table border=\"1\" class=\"dataframe\">\n",
       "  <thead>\n",
       "    <tr style=\"text-align: right;\">\n",
       "      <th></th>\n",
       "      <th>budget</th>\n",
       "      <th>genres</th>\n",
       "      <th>id</th>\n",
       "      <th>keywords</th>\n",
       "      <th>original_language</th>\n",
       "      <th>original_title</th>\n",
       "      <th>overview</th>\n",
       "      <th>popularity</th>\n",
       "      <th>production_companies</th>\n",
       "      <th>revenue</th>\n",
       "      <th>...</th>\n",
       "      <th>spoken_languages</th>\n",
       "      <th>title</th>\n",
       "      <th>vote_average</th>\n",
       "      <th>vote_count</th>\n",
       "      <th>movie_id</th>\n",
       "      <th>cast</th>\n",
       "      <th>crew</th>\n",
       "      <th>Weighted_avg</th>\n",
       "      <th>scaled_weighted_avg</th>\n",
       "      <th>scaled_popularity</th>\n",
       "    </tr>\n",
       "  </thead>\n",
       "  <tbody>\n",
       "    <tr>\n",
       "      <th>0</th>\n",
       "      <td>237000000</td>\n",
       "      <td>[{\"id\": 28, \"name\": \"Action\"}, {\"id\": 12, \"nam...</td>\n",
       "      <td>19995</td>\n",
       "      <td>[{\"id\": 1463, \"name\": \"culture clash\"}, {\"id\":...</td>\n",
       "      <td>en</td>\n",
       "      <td>Avatar</td>\n",
       "      <td>In the 22nd century, a paraplegic Marine is di...</td>\n",
       "      <td>150.437577</td>\n",
       "      <td>[{\"name\": \"Ingenious Film Partners\", \"id\": 289...</td>\n",
       "      <td>2787965087</td>\n",
       "      <td>...</td>\n",
       "      <td>[{\"iso_639_1\": \"en\", \"name\": \"English\"}, {\"iso...</td>\n",
       "      <td>Avatar</td>\n",
       "      <td>7.2</td>\n",
       "      <td>11800</td>\n",
       "      <td>19995</td>\n",
       "      <td>[{\"cast_id\": 242, \"character\": \"Jake Sully\", \"...</td>\n",
       "      <td>[{\"credit_id\": \"52fe48009251416c750aca23\", \"de...</td>\n",
       "      <td>7.148029</td>\n",
       "      <td>0.674322</td>\n",
       "      <td>0.171815</td>\n",
       "    </tr>\n",
       "    <tr>\n",
       "      <th>1</th>\n",
       "      <td>300000000</td>\n",
       "      <td>[{\"id\": 12, \"name\": \"Adventure\"}, {\"id\": 14, \"...</td>\n",
       "      <td>285</td>\n",
       "      <td>[{\"id\": 270, \"name\": \"ocean\"}, {\"id\": 726, \"na...</td>\n",
       "      <td>en</td>\n",
       "      <td>Pirates of the Caribbean: At World's End</td>\n",
       "      <td>Captain Barbossa, long believed to be dead, ha...</td>\n",
       "      <td>139.082615</td>\n",
       "      <td>[{\"name\": \"Walt Disney Pictures\", \"id\": 2}, {\"...</td>\n",
       "      <td>961000000</td>\n",
       "      <td>...</td>\n",
       "      <td>[{\"iso_639_1\": \"en\", \"name\": \"English\"}]</td>\n",
       "      <td>Pirates of the Caribbean: At World's End</td>\n",
       "      <td>6.9</td>\n",
       "      <td>4500</td>\n",
       "      <td>285</td>\n",
       "      <td>[{\"cast_id\": 4, \"character\": \"Captain Jack Spa...</td>\n",
       "      <td>[{\"credit_id\": \"52fe4232c3a36847f800b579\", \"de...</td>\n",
       "      <td>6.807666</td>\n",
       "      <td>0.581388</td>\n",
       "      <td>0.158846</td>\n",
       "    </tr>\n",
       "    <tr>\n",
       "      <th>2</th>\n",
       "      <td>245000000</td>\n",
       "      <td>[{\"id\": 28, \"name\": \"Action\"}, {\"id\": 12, \"nam...</td>\n",
       "      <td>206647</td>\n",
       "      <td>[{\"id\": 470, \"name\": \"spy\"}, {\"id\": 818, \"name...</td>\n",
       "      <td>en</td>\n",
       "      <td>Spectre</td>\n",
       "      <td>A cryptic message from Bond’s past sends him o...</td>\n",
       "      <td>107.376788</td>\n",
       "      <td>[{\"name\": \"Columbia Pictures\", \"id\": 5}, {\"nam...</td>\n",
       "      <td>880674609</td>\n",
       "      <td>...</td>\n",
       "      <td>[{\"iso_639_1\": \"fr\", \"name\": \"Fran\\u00e7ais\"},...</td>\n",
       "      <td>Spectre</td>\n",
       "      <td>6.3</td>\n",
       "      <td>4466</td>\n",
       "      <td>206647</td>\n",
       "      <td>[{\"cast_id\": 1, \"character\": \"James Bond\", \"cr...</td>\n",
       "      <td>[{\"credit_id\": \"54805967c3a36829b5002c41\", \"de...</td>\n",
       "      <td>6.276115</td>\n",
       "      <td>0.436251</td>\n",
       "      <td>0.122635</td>\n",
       "    </tr>\n",
       "    <tr>\n",
       "      <th>3</th>\n",
       "      <td>250000000</td>\n",
       "      <td>[{\"id\": 28, \"name\": \"Action\"}, {\"id\": 80, \"nam...</td>\n",
       "      <td>49026</td>\n",
       "      <td>[{\"id\": 849, \"name\": \"dc comics\"}, {\"id\": 853,...</td>\n",
       "      <td>en</td>\n",
       "      <td>The Dark Knight Rises</td>\n",
       "      <td>Following the death of District Attorney Harve...</td>\n",
       "      <td>112.312950</td>\n",
       "      <td>[{\"name\": \"Legendary Pictures\", \"id\": 923}, {\"...</td>\n",
       "      <td>1084939099</td>\n",
       "      <td>...</td>\n",
       "      <td>[{\"iso_639_1\": \"en\", \"name\": \"English\"}]</td>\n",
       "      <td>The Dark Knight Rises</td>\n",
       "      <td>7.6</td>\n",
       "      <td>9106</td>\n",
       "      <td>49026</td>\n",
       "      <td>[{\"cast_id\": 2, \"character\": \"Bruce Wayne / Ba...</td>\n",
       "      <td>[{\"credit_id\": \"52fe4781c3a36847f81398c3\", \"de...</td>\n",
       "      <td>7.509585</td>\n",
       "      <td>0.773043</td>\n",
       "      <td>0.128272</td>\n",
       "    </tr>\n",
       "    <tr>\n",
       "      <th>4</th>\n",
       "      <td>260000000</td>\n",
       "      <td>[{\"id\": 28, \"name\": \"Action\"}, {\"id\": 12, \"nam...</td>\n",
       "      <td>49529</td>\n",
       "      <td>[{\"id\": 818, \"name\": \"based on novel\"}, {\"id\":...</td>\n",
       "      <td>en</td>\n",
       "      <td>John Carter</td>\n",
       "      <td>John Carter is a war-weary, former military ca...</td>\n",
       "      <td>43.926995</td>\n",
       "      <td>[{\"name\": \"Walt Disney Pictures\", \"id\": 2}]</td>\n",
       "      <td>284139100</td>\n",
       "      <td>...</td>\n",
       "      <td>[{\"iso_639_1\": \"en\", \"name\": \"English\"}]</td>\n",
       "      <td>John Carter</td>\n",
       "      <td>6.1</td>\n",
       "      <td>2124</td>\n",
       "      <td>49529</td>\n",
       "      <td>[{\"cast_id\": 5, \"character\": \"John Carter\", \"c...</td>\n",
       "      <td>[{\"credit_id\": \"52fe479ac3a36847f813eaa3\", \"de...</td>\n",
       "      <td>6.098392</td>\n",
       "      <td>0.387725</td>\n",
       "      <td>0.050169</td>\n",
       "    </tr>\n",
       "  </tbody>\n",
       "</table>\n",
       "<p>5 rows × 21 columns</p>\n",
       "</div>"
      ],
      "text/plain": [
       "      budget                                             genres      id  \\\n",
       "0  237000000  [{\"id\": 28, \"name\": \"Action\"}, {\"id\": 12, \"nam...   19995   \n",
       "1  300000000  [{\"id\": 12, \"name\": \"Adventure\"}, {\"id\": 14, \"...     285   \n",
       "2  245000000  [{\"id\": 28, \"name\": \"Action\"}, {\"id\": 12, \"nam...  206647   \n",
       "3  250000000  [{\"id\": 28, \"name\": \"Action\"}, {\"id\": 80, \"nam...   49026   \n",
       "4  260000000  [{\"id\": 28, \"name\": \"Action\"}, {\"id\": 12, \"nam...   49529   \n",
       "\n",
       "                                            keywords original_language  \\\n",
       "0  [{\"id\": 1463, \"name\": \"culture clash\"}, {\"id\":...                en   \n",
       "1  [{\"id\": 270, \"name\": \"ocean\"}, {\"id\": 726, \"na...                en   \n",
       "2  [{\"id\": 470, \"name\": \"spy\"}, {\"id\": 818, \"name...                en   \n",
       "3  [{\"id\": 849, \"name\": \"dc comics\"}, {\"id\": 853,...                en   \n",
       "4  [{\"id\": 818, \"name\": \"based on novel\"}, {\"id\":...                en   \n",
       "\n",
       "                             original_title  \\\n",
       "0                                    Avatar   \n",
       "1  Pirates of the Caribbean: At World's End   \n",
       "2                                   Spectre   \n",
       "3                     The Dark Knight Rises   \n",
       "4                               John Carter   \n",
       "\n",
       "                                            overview  popularity  \\\n",
       "0  In the 22nd century, a paraplegic Marine is di...  150.437577   \n",
       "1  Captain Barbossa, long believed to be dead, ha...  139.082615   \n",
       "2  A cryptic message from Bond’s past sends him o...  107.376788   \n",
       "3  Following the death of District Attorney Harve...  112.312950   \n",
       "4  John Carter is a war-weary, former military ca...   43.926995   \n",
       "\n",
       "                                production_companies     revenue  ...  \\\n",
       "0  [{\"name\": \"Ingenious Film Partners\", \"id\": 289...  2787965087  ...   \n",
       "1  [{\"name\": \"Walt Disney Pictures\", \"id\": 2}, {\"...   961000000  ...   \n",
       "2  [{\"name\": \"Columbia Pictures\", \"id\": 5}, {\"nam...   880674609  ...   \n",
       "3  [{\"name\": \"Legendary Pictures\", \"id\": 923}, {\"...  1084939099  ...   \n",
       "4        [{\"name\": \"Walt Disney Pictures\", \"id\": 2}]   284139100  ...   \n",
       "\n",
       "                                    spoken_languages  \\\n",
       "0  [{\"iso_639_1\": \"en\", \"name\": \"English\"}, {\"iso...   \n",
       "1           [{\"iso_639_1\": \"en\", \"name\": \"English\"}]   \n",
       "2  [{\"iso_639_1\": \"fr\", \"name\": \"Fran\\u00e7ais\"},...   \n",
       "3           [{\"iso_639_1\": \"en\", \"name\": \"English\"}]   \n",
       "4           [{\"iso_639_1\": \"en\", \"name\": \"English\"}]   \n",
       "\n",
       "                                      title vote_average  vote_count  \\\n",
       "0                                    Avatar          7.2       11800   \n",
       "1  Pirates of the Caribbean: At World's End          6.9        4500   \n",
       "2                                   Spectre          6.3        4466   \n",
       "3                     The Dark Knight Rises          7.6        9106   \n",
       "4                               John Carter          6.1        2124   \n",
       "\n",
       "   movie_id                                               cast  \\\n",
       "0     19995  [{\"cast_id\": 242, \"character\": \"Jake Sully\", \"...   \n",
       "1       285  [{\"cast_id\": 4, \"character\": \"Captain Jack Spa...   \n",
       "2    206647  [{\"cast_id\": 1, \"character\": \"James Bond\", \"cr...   \n",
       "3     49026  [{\"cast_id\": 2, \"character\": \"Bruce Wayne / Ba...   \n",
       "4     49529  [{\"cast_id\": 5, \"character\": \"John Carter\", \"c...   \n",
       "\n",
       "                                                crew Weighted_avg  \\\n",
       "0  [{\"credit_id\": \"52fe48009251416c750aca23\", \"de...     7.148029   \n",
       "1  [{\"credit_id\": \"52fe4232c3a36847f800b579\", \"de...     6.807666   \n",
       "2  [{\"credit_id\": \"54805967c3a36829b5002c41\", \"de...     6.276115   \n",
       "3  [{\"credit_id\": \"52fe4781c3a36847f81398c3\", \"de...     7.509585   \n",
       "4  [{\"credit_id\": \"52fe479ac3a36847f813eaa3\", \"de...     6.098392   \n",
       "\n",
       "   scaled_weighted_avg  scaled_popularity  \n",
       "0             0.674322           0.171815  \n",
       "1             0.581388           0.158846  \n",
       "2             0.436251           0.122635  \n",
       "3             0.773043           0.128272  \n",
       "4             0.387725           0.050169  \n",
       "\n",
       "[5 rows x 21 columns]"
      ]
     },
     "execution_count": 20,
     "metadata": {},
     "output_type": "execute_result"
    }
   ],
   "source": [
    "movies[['scaled_weighted_avg' , 'scaled_popularity']] = scaled_df\n",
    "movies.head(5)"
   ]
  },
  {
   "cell_type": "markdown",
   "id": "e052c001",
   "metadata": {
    "papermill": {
     "duration": 0.023119,
     "end_time": "2022-10-10T21:47:15.703641",
     "exception": false,
     "start_time": "2022-10-10T21:47:15.680522",
     "status": "completed"
    },
    "tags": []
   },
   "source": [
    "**Now create score and give 50% importance to newly created these two column - scaled_weighted_avg and scaled_popularity**"
   ]
  },
  {
   "cell_type": "code",
   "execution_count": 21,
   "id": "d96a5395",
   "metadata": {
    "execution": {
     "iopub.execute_input": "2022-10-10T21:47:15.753177Z",
     "iopub.status.busy": "2022-10-10T21:47:15.752788Z",
     "iopub.status.idle": "2022-10-10T21:47:15.772154Z",
     "shell.execute_reply": "2022-10-10T21:47:15.771259Z"
    },
    "papermill": {
     "duration": 0.046572,
     "end_time": "2022-10-10T21:47:15.774260",
     "exception": false,
     "start_time": "2022-10-10T21:47:15.727688",
     "status": "completed"
    },
    "tags": []
   },
   "outputs": [
    {
     "data": {
      "text/html": [
       "<div>\n",
       "<style scoped>\n",
       "    .dataframe tbody tr th:only-of-type {\n",
       "        vertical-align: middle;\n",
       "    }\n",
       "\n",
       "    .dataframe tbody tr th {\n",
       "        vertical-align: top;\n",
       "    }\n",
       "\n",
       "    .dataframe thead th {\n",
       "        text-align: right;\n",
       "    }\n",
       "</style>\n",
       "<table border=\"1\" class=\"dataframe\">\n",
       "  <thead>\n",
       "    <tr style=\"text-align: right;\">\n",
       "      <th></th>\n",
       "      <th>original_title</th>\n",
       "      <th>scaled_weighted_avg</th>\n",
       "      <th>scaled_popularity</th>\n",
       "      <th>score</th>\n",
       "    </tr>\n",
       "  </thead>\n",
       "  <tbody>\n",
       "    <tr>\n",
       "      <th>95</th>\n",
       "      <td>Interstellar</td>\n",
       "      <td>0.906433</td>\n",
       "      <td>0.827162</td>\n",
       "      <td>0.866798</td>\n",
       "    </tr>\n",
       "    <tr>\n",
       "      <th>546</th>\n",
       "      <td>Minions</td>\n",
       "      <td>0.460609</td>\n",
       "      <td>1.000000</td>\n",
       "      <td>0.730305</td>\n",
       "    </tr>\n",
       "    <tr>\n",
       "      <th>94</th>\n",
       "      <td>Guardians of the Galaxy</td>\n",
       "      <td>0.851866</td>\n",
       "      <td>0.549462</td>\n",
       "      <td>0.700664</td>\n",
       "    </tr>\n",
       "    <tr>\n",
       "      <th>788</th>\n",
       "      <td>Deadpool</td>\n",
       "      <td>0.725203</td>\n",
       "      <td>0.587690</td>\n",
       "      <td>0.656446</td>\n",
       "    </tr>\n",
       "    <tr>\n",
       "      <th>127</th>\n",
       "      <td>Mad Max: Fury Road</td>\n",
       "      <td>0.670957</td>\n",
       "      <td>0.495989</td>\n",
       "      <td>0.583473</td>\n",
       "    </tr>\n",
       "    <tr>\n",
       "      <th>1887</th>\n",
       "      <td>The Shawshank Redemption</td>\n",
       "      <td>1.000000</td>\n",
       "      <td>0.156179</td>\n",
       "      <td>0.578090</td>\n",
       "    </tr>\n",
       "    <tr>\n",
       "      <th>65</th>\n",
       "      <td>The Dark Knight</td>\n",
       "      <td>0.934986</td>\n",
       "      <td>0.213941</td>\n",
       "      <td>0.574464</td>\n",
       "    </tr>\n",
       "    <tr>\n",
       "      <th>3872</th>\n",
       "      <td>Whiplash</td>\n",
       "      <td>0.916432</td>\n",
       "      <td>0.219887</td>\n",
       "      <td>0.568159</td>\n",
       "    </tr>\n",
       "    <tr>\n",
       "      <th>3342</th>\n",
       "      <td>The Godfather</td>\n",
       "      <td>0.959622</td>\n",
       "      <td>0.164074</td>\n",
       "      <td>0.561848</td>\n",
       "    </tr>\n",
       "    <tr>\n",
       "      <th>662</th>\n",
       "      <td>Fight Club</td>\n",
       "      <td>0.953820</td>\n",
       "      <td>0.167611</td>\n",
       "      <td>0.560716</td>\n",
       "    </tr>\n",
       "  </tbody>\n",
       "</table>\n",
       "</div>"
      ],
      "text/plain": [
       "                original_title  scaled_weighted_avg  scaled_popularity  \\\n",
       "95                Interstellar             0.906433           0.827162   \n",
       "546                    Minions             0.460609           1.000000   \n",
       "94     Guardians of the Galaxy             0.851866           0.549462   \n",
       "788                   Deadpool             0.725203           0.587690   \n",
       "127         Mad Max: Fury Road             0.670957           0.495989   \n",
       "1887  The Shawshank Redemption             1.000000           0.156179   \n",
       "65             The Dark Knight             0.934986           0.213941   \n",
       "3872                  Whiplash             0.916432           0.219887   \n",
       "3342             The Godfather             0.959622           0.164074   \n",
       "662                 Fight Club             0.953820           0.167611   \n",
       "\n",
       "         score  \n",
       "95    0.866798  \n",
       "546   0.730305  \n",
       "94    0.700664  \n",
       "788   0.656446  \n",
       "127   0.583473  \n",
       "1887  0.578090  \n",
       "65    0.574464  \n",
       "3872  0.568159  \n",
       "3342  0.561848  \n",
       "662   0.560716  "
      ]
     },
     "execution_count": 21,
     "metadata": {},
     "output_type": "execute_result"
    }
   ],
   "source": [
    "movies['score'] = movies['scaled_weighted_avg'] * 0.5 + movies['scaled_popularity'] * 0.5\n",
    "movies_scored = movies.sort_values('score' , ascending = False)\n",
    "movies_scored[['original_title' , 'scaled_weighted_avg' , 'scaled_popularity' , 'score']].head(10)"
   ]
  },
  {
   "cell_type": "markdown",
   "id": "4748de7b",
   "metadata": {
    "papermill": {
     "duration": 0.024225,
     "end_time": "2022-10-10T21:47:15.822605",
     "exception": false,
     "start_time": "2022-10-10T21:47:15.798380",
     "status": "completed"
    },
    "tags": []
   },
   "source": [
    "# Top movies by score"
   ]
  },
  {
   "cell_type": "code",
   "execution_count": 22,
   "id": "1cf896a6",
   "metadata": {
    "execution": {
     "iopub.execute_input": "2022-10-10T21:47:15.872828Z",
     "iopub.status.busy": "2022-10-10T21:47:15.872068Z",
     "iopub.status.idle": "2022-10-10T21:47:16.110535Z",
     "shell.execute_reply": "2022-10-10T21:47:16.109341Z"
    },
    "papermill": {
     "duration": 0.266469,
     "end_time": "2022-10-10T21:47:16.112992",
     "exception": false,
     "start_time": "2022-10-10T21:47:15.846523",
     "status": "completed"
    },
    "tags": []
   },
   "outputs": [
    {
     "data": {
      "text/plain": [
       "Text(0.5, 1.0, 'Top 10 Recomended movies by score')"
      ]
     },
     "execution_count": 22,
     "metadata": {},
     "output_type": "execute_result"
    },
    {
     "data": {
      "image/png": "[encoded data removed]",
      "text/plain": [
       "<Figure size 864x576 with 1 Axes>"
      ]
     },
     "metadata": {
      "needs_background": "light"
     },
     "output_type": "display_data"
    }
   ],
   "source": [
    "score_df = movies.sort_values('score',ascending = False)\n",
    "plt.figure(figsize = (12,8))\n",
    "sns.barplot(x = score_df['score'].head(10) , y = score_df['original_title'].head(10) )\n",
    "plt.xlabel('score')\n",
    "plt.ylabel('Movie name')\n",
    "plt.title('Top 10 Recomended movies by score')"
   ]
  },
  {
   "cell_type": "markdown",
   "id": "e3e340d2",
   "metadata": {
    "papermill": {
     "duration": 0.02439,
     "end_time": "2022-10-10T21:47:16.162360",
     "exception": false,
     "start_time": "2022-10-10T21:47:16.137970",
     "status": "completed"
    },
    "tags": []
   },
   "source": [
    "# # Now create recommendation model"
   ]
  },
  {
   "cell_type": "markdown",
   "id": "dbea4f6b",
   "metadata": {
    "papermill": {
     "duration": 0.02443,
     "end_time": "2022-10-10T21:47:16.211679",
     "exception": false,
     "start_time": "2022-10-10T21:47:16.187249",
     "status": "completed"
    },
    "tags": []
   },
   "source": [
    "# Features selection"
   ]
  },
  {
   "cell_type": "code",
   "execution_count": 23,
   "id": "6a776398",
   "metadata": {
    "canvas": {
     "comments": [],
     "componentType": "CodeCell",
     "copiedOriginId": null,
     "diskcache": false,
     "headerColor": "inherit",
     "id": "3e49aea8-9961-427a-9c0f-51f3e98dbf3f",
     "isComponent": true,
     "name": "Feature selection",
     "parents": [
      {
       "id": "e71b2a53-064e-4f7d-888a-b97a6c97211f",
       "name": "Merged two datasets"
      }
     ]
    },
    "execution": {
     "iopub.execute_input": "2022-10-10T21:47:16.264091Z",
     "iopub.status.busy": "2022-10-10T21:47:16.263633Z",
     "iopub.status.idle": "2022-10-10T21:47:16.271273Z",
     "shell.execute_reply": "2022-10-10T21:47:16.270043Z"
    },
    "papermill": {
     "duration": 0.037166,
     "end_time": "2022-10-10T21:47:16.273754",
     "exception": false,
     "start_time": "2022-10-10T21:47:16.236588",
     "status": "completed"
    },
    "tags": []
   },
   "outputs": [],
   "source": [
    "movies=movies[[\"movie_id\",\"original_title\",\"overview\",\"genres\",\"cast\",\"crew\",\"keywords\"]]"
   ]
  },
  {
   "cell_type": "code",
   "execution_count": 24,
   "id": "4efcaa8d",
   "metadata": {
    "canvas": {
     "comments": [],
     "componentType": "CodeCell",
     "copiedOriginId": null,
     "diskcache": false,
     "headerColor": "inherit",
     "id": "6b51ff69-eb8b-4a23-84fe-573c9f10e3a8",
     "isComponent": false,
     "name": "",
     "parents": []
    },
    "execution": {
     "iopub.execute_input": "2022-10-10T21:47:16.326112Z",
     "iopub.status.busy": "2022-10-10T21:47:16.325671Z",
     "iopub.status.idle": "2022-10-10T21:47:16.340907Z",
     "shell.execute_reply": "2022-10-10T21:47:16.339402Z"
    },
    "papermill": {
     "duration": 0.044845,
     "end_time": "2022-10-10T21:47:16.343335",
     "exception": false,
     "start_time": "2022-10-10T21:47:16.298490",
     "status": "completed"
    },
    "tags": []
   },
   "outputs": [
    {
     "data": {
      "text/html": [
       "<div>\n",
       "<style scoped>\n",
       "    .dataframe tbody tr th:only-of-type {\n",
       "        vertical-align: middle;\n",
       "    }\n",
       "\n",
       "    .dataframe tbody tr th {\n",
       "        vertical-align: top;\n",
       "    }\n",
       "\n",
       "    .dataframe thead th {\n",
       "        text-align: right;\n",
       "    }\n",
       "</style>\n",
       "<table border=\"1\" class=\"dataframe\">\n",
       "  <thead>\n",
       "    <tr style=\"text-align: right;\">\n",
       "      <th></th>\n",
       "      <th>movie_id</th>\n",
       "      <th>original_title</th>\n",
       "      <th>overview</th>\n",
       "      <th>genres</th>\n",
       "      <th>cast</th>\n",
       "      <th>crew</th>\n",
       "      <th>keywords</th>\n",
       "    </tr>\n",
       "  </thead>\n",
       "  <tbody>\n",
       "    <tr>\n",
       "      <th>0</th>\n",
       "      <td>19995</td>\n",
       "      <td>Avatar</td>\n",
       "      <td>In the 22nd century, a paraplegic Marine is di...</td>\n",
       "      <td>[{\"id\": 28, \"name\": \"Action\"}, {\"id\": 12, \"nam...</td>\n",
       "      <td>[{\"cast_id\": 242, \"character\": \"Jake Sully\", \"...</td>\n",
       "      <td>[{\"credit_id\": \"52fe48009251416c750aca23\", \"de...</td>\n",
       "      <td>[{\"id\": 1463, \"name\": \"culture clash\"}, {\"id\":...</td>\n",
       "    </tr>\n",
       "  </tbody>\n",
       "</table>\n",
       "</div>"
      ],
      "text/plain": [
       "   movie_id original_title                                           overview  \\\n",
       "0     19995         Avatar  In the 22nd century, a paraplegic Marine is di...   \n",
       "\n",
       "                                              genres  \\\n",
       "0  [{\"id\": 28, \"name\": \"Action\"}, {\"id\": 12, \"nam...   \n",
       "\n",
       "                                                cast  \\\n",
       "0  [{\"cast_id\": 242, \"character\": \"Jake Sully\", \"...   \n",
       "\n",
       "                                                crew  \\\n",
       "0  [{\"credit_id\": \"52fe48009251416c750aca23\", \"de...   \n",
       "\n",
       "                                            keywords  \n",
       "0  [{\"id\": 1463, \"name\": \"culture clash\"}, {\"id\":...  "
      ]
     },
     "execution_count": 24,
     "metadata": {},
     "output_type": "execute_result"
    }
   ],
   "source": [
    "movies.head(1)"
   ]
  },
  {
   "cell_type": "code",
   "execution_count": 25,
   "id": "f0e6f362",
   "metadata": {
    "execution": {
     "iopub.execute_input": "2022-10-10T21:47:16.395647Z",
     "iopub.status.busy": "2022-10-10T21:47:16.394833Z",
     "iopub.status.idle": "2022-10-10T21:47:16.412726Z",
     "shell.execute_reply": "2022-10-10T21:47:16.411204Z"
    },
    "papermill": {
     "duration": 0.046814,
     "end_time": "2022-10-10T21:47:16.415316",
     "exception": false,
     "start_time": "2022-10-10T21:47:16.368502",
     "status": "completed"
    },
    "tags": []
   },
   "outputs": [
    {
     "name": "stdout",
     "output_type": "stream",
     "text": [
      "<class 'pandas.core.frame.DataFrame'>\n",
      "Int64Index: 4809 entries, 0 to 4808\n",
      "Data columns (total 7 columns):\n",
      " #   Column          Non-Null Count  Dtype \n",
      "---  ------          --------------  ----- \n",
      " 0   movie_id        4809 non-null   int64 \n",
      " 1   original_title  4809 non-null   object\n",
      " 2   overview        4806 non-null   object\n",
      " 3   genres          4809 non-null   object\n",
      " 4   cast            4809 non-null   object\n",
      " 5   crew            4809 non-null   object\n",
      " 6   keywords        4809 non-null   object\n",
      "dtypes: int64(1), object(6)\n",
      "memory usage: 300.6+ KB\n"
     ]
    }
   ],
   "source": [
    "movies.info()"
   ]
  },
  {
   "cell_type": "code",
   "execution_count": 26,
   "id": "8549b3d9",
   "metadata": {
    "canvas": {
     "comments": [],
     "componentType": "CodeCell",
     "copiedOriginId": null,
     "diskcache": false,
     "headerColor": "inherit",
     "id": "7e143504-da0e-46f2-bb84-4783304d7353",
     "isComponent": true,
     "name": "Handle missing and duplicate ",
     "parents": [
      {
       "id": "3e49aea8-9961-427a-9c0f-51f3e98dbf3f",
       "name": "Feature selection"
      }
     ]
    },
    "execution": {
     "iopub.execute_input": "2022-10-10T21:47:16.468722Z",
     "iopub.status.busy": "2022-10-10T21:47:16.468281Z",
     "iopub.status.idle": "2022-10-10T21:47:16.585297Z",
     "shell.execute_reply": "2022-10-10T21:47:16.583997Z"
    },
    "papermill": {
     "duration": 0.146823,
     "end_time": "2022-10-10T21:47:16.587852",
     "exception": false,
     "start_time": "2022-10-10T21:47:16.441029",
     "status": "completed"
    },
    "tags": []
   },
   "outputs": [
    {
     "name": "stdout",
     "output_type": "stream",
     "text": [
      "#Count of null values\n",
      "                0\n",
      "movie_id        0\n",
      "original_title  0\n",
      "overview        3\n",
      "genres          0\n",
      "cast            0\n",
      "crew            0\n",
      "keywords        0\n",
      "#Count of duplicate data\n",
      "0\n"
     ]
    },
    {
     "name": "stderr",
     "output_type": "stream",
     "text": [
      "/opt/conda/lib/python3.7/site-packages/pandas/util/_decorators.py:311: SettingWithCopyWarning: \n",
      "A value is trying to be set on a copy of a slice from a DataFrame\n",
      "\n",
      "See the caveats in the documentation: https://pandas.pydata.org/pandas-docs/stable/user_guide/indexing.html#returning-a-view-versus-a-copy\n",
      "  return func(*args, **kwargs)\n"
     ]
    }
   ],
   "source": [
    "print(\"#Count of null values\")\n",
    "print(movies.isnull().sum().to_frame())\n",
    "print(\"#Count of duplicate data\")\n",
    "print(movies.duplicated().sum())\n",
    "movies.dropna(inplace=True)"
   ]
  },
  {
   "cell_type": "code",
   "execution_count": 27,
   "id": "766eb77c",
   "metadata": {
    "canvas": {
     "comments": [],
     "componentType": "CodeCell",
     "copiedOriginId": null,
     "diskcache": false,
     "headerColor": "inherit",
     "id": "dbef50c8-d1af-4b1f-8aec-0834c0aee1d2",
     "isComponent": false,
     "name": "",
     "parents": []
    },
    "execution": {
     "iopub.execute_input": "2022-10-10T21:47:16.640632Z",
     "iopub.status.busy": "2022-10-10T21:47:16.640168Z",
     "iopub.status.idle": "2022-10-10T21:47:16.653065Z",
     "shell.execute_reply": "2022-10-10T21:47:16.651513Z"
    },
    "papermill": {
     "duration": 0.042739,
     "end_time": "2022-10-10T21:47:16.656372",
     "exception": false,
     "start_time": "2022-10-10T21:47:16.613633",
     "status": "completed"
    },
    "tags": []
   },
   "outputs": [
    {
     "name": "stdout",
     "output_type": "stream",
     "text": [
      "                0\n",
      "movie_id        0\n",
      "original_title  0\n",
      "overview        0\n",
      "genres          0\n",
      "cast            0\n",
      "crew            0\n",
      "keywords        0\n"
     ]
    }
   ],
   "source": [
    "print(movies.isnull().sum().to_frame())"
   ]
  },
  {
   "cell_type": "code",
   "execution_count": 28,
   "id": "561892a4",
   "metadata": {
    "canvas": {
     "comments": [],
     "componentType": "CodeCell",
     "copiedOriginId": null,
     "diskcache": false,
     "headerColor": "inherit",
     "id": "a0d2e028-ec20-408a-8c67-ecb212073e17",
     "isComponent": false,
     "name": "",
     "parents": []
    },
    "execution": {
     "iopub.execute_input": "2022-10-10T21:47:16.709315Z",
     "iopub.status.busy": "2022-10-10T21:47:16.708328Z",
     "iopub.status.idle": "2022-10-10T21:47:16.715686Z",
     "shell.execute_reply": "2022-10-10T21:47:16.714254Z"
    },
    "papermill": {
     "duration": 0.035909,
     "end_time": "2022-10-10T21:47:16.717945",
     "exception": false,
     "start_time": "2022-10-10T21:47:16.682036",
     "status": "completed"
    },
    "tags": []
   },
   "outputs": [
    {
     "name": "stdout",
     "output_type": "stream",
     "text": [
      "[{\"id\": 28, \"name\": \"Action\"}, {\"id\": 12, \"name\": \"Adventure\"}, {\"id\": 14, \"name\": \"Fantasy\"}, {\"id\": 878, \"name\": \"Science Fiction\"}]\n",
      "[{\"id\": 1463, \"name\": \"culture clash\"}, {\"id\": 2964, \"name\": \"future\"}, {\"id\": 3386, \"name\": \"space war\"}, {\"id\": 3388, \"name\": \"space colony\"}, {\"id\": 3679, \"name\": \"society\"}, {\"id\": 3801, \"name\": \"space travel\"}, {\"id\": 9685, \"name\": \"futuristic\"}, {\"id\": 9840, \"name\": \"romance\"}, {\"id\": 9882, \"name\": \"space\"}, {\"id\": 9951, \"name\": \"alien\"}, {\"id\": 10148, \"name\": \"tribe\"}, {\"id\": 10158, \"name\": \"alien planet\"}, {\"id\": 10987, \"name\": \"cgi\"}, {\"id\": 11399, \"name\": \"marine\"}, {\"id\": 13065, \"name\": \"soldier\"}, {\"id\": 14643, \"name\": \"battle\"}, {\"id\": 14720, \"name\": \"love affair\"}, {\"id\": 165431, \"name\": \"anti war\"}, {\"id\": 193554, \"name\": \"power relations\"}, {\"id\": 206690, \"name\": \"mind and soul\"}, {\"id\": 209714, \"name\": \"3d\"}]\n"
     ]
    }
   ],
   "source": [
    "# print(type(movies.iloc[0].genres))\n",
    "print(movies.iloc[0].genres)\n",
    "# print(movies.iloc[0].cast)\n",
    "print(movies.iloc[0].keywords)"
   ]
  },
  {
   "cell_type": "code",
   "execution_count": 29,
   "id": "9c4b8a7f",
   "metadata": {
    "canvas": {
     "comments": [],
     "componentType": "CodeCell",
     "copiedOriginId": null,
     "diskcache": false,
     "headerColor": "inherit",
     "id": "8ed2da5c-a671-455a-bde5-b27d0a830f47",
     "isComponent": false,
     "name": "",
     "parents": []
    },
    "execution": {
     "iopub.execute_input": "2022-10-10T21:47:16.772032Z",
     "iopub.status.busy": "2022-10-10T21:47:16.770654Z",
     "iopub.status.idle": "2022-10-10T21:47:16.779134Z",
     "shell.execute_reply": "2022-10-10T21:47:16.777781Z"
    },
    "papermill": {
     "duration": 0.041519,
     "end_time": "2022-10-10T21:47:16.784570",
     "exception": false,
     "start_time": "2022-10-10T21:47:16.743051",
     "status": "completed"
    },
    "tags": []
   },
   "outputs": [
    {
     "name": "stdout",
     "output_type": "stream",
     "text": [
      "<class 'list'>\n"
     ]
    },
    {
     "data": {
      "text/plain": [
       "'Adventure'"
      ]
     },
     "execution_count": 29,
     "metadata": {},
     "output_type": "execute_result"
    }
   ],
   "source": [
    "a=ast.literal_eval('[{\"id\": 28, \"name\": \"Action\"}, {\"id\": 12, \"name\": \"Adventure\"}, {\"id\": 14, \"name\": \"Fantasy\"}, {\"id\": 878, \"name\": \"Science Fiction\"}]')\n",
    "print(type(a))\n",
    "a[1]['name']"
   ]
  },
  {
   "cell_type": "markdown",
   "id": "3bfde8de",
   "metadata": {
    "papermill": {
     "duration": 0.025358,
     "end_time": "2022-10-10T21:47:16.838448",
     "exception": false,
     "start_time": "2022-10-10T21:47:16.813090",
     "status": "completed"
    },
    "tags": []
   },
   "source": [
    "**Now geners, cast, crew, keywords columns are not properly arrange.  \n",
    "Now i arrange those column properly.  \n",
    "Create a function to collect name from genres,cast, keywords**"
   ]
  },
  {
   "cell_type": "code",
   "execution_count": 30,
   "id": "cc5e80e0",
   "metadata": {
    "canvas": {
     "comments": [],
     "componentType": "CodeCell",
     "copiedOriginId": null,
     "diskcache": false,
     "headerColor": "inherit",
     "id": "f209f98a-25e5-41ee-9768-8a615c6f9ac0",
     "isComponent": true,
     "name": "CnvrtFunctionGenreskeywordCast",
     "parents": [
      {
       "id": "7e143504-da0e-46f2-bb84-4783304d7353",
       "name": "Handle missing and duplicate "
      }
     ]
    },
    "execution": {
     "iopub.execute_input": "2022-10-10T21:47:16.891422Z",
     "iopub.status.busy": "2022-10-10T21:47:16.890229Z",
     "iopub.status.idle": "2022-10-10T21:47:16.895506Z",
     "shell.execute_reply": "2022-10-10T21:47:16.894748Z"
    },
    "papermill": {
     "duration": 0.033521,
     "end_time": "2022-10-10T21:47:16.897412",
     "exception": false,
     "start_time": "2022-10-10T21:47:16.863891",
     "status": "completed"
    },
    "tags": []
   },
   "outputs": [],
   "source": [
    "## create a funtion for collect name\n",
    "def convert(obj):\n",
    "    l=[]\n",
    "    for i in ast.literal_eval(obj):\n",
    "        l.append(i['name'])\n",
    "    return l"
   ]
  },
  {
   "cell_type": "markdown",
   "id": "b8baaab8",
   "metadata": {
    "papermill": {
     "duration": 0.025003,
     "end_time": "2022-10-10T21:47:16.948198",
     "exception": false,
     "start_time": "2022-10-10T21:47:16.923195",
     "status": "completed"
    },
    "tags": []
   },
   "source": [
    "**Create a function to collect director name from crew column**"
   ]
  },
  {
   "cell_type": "code",
   "execution_count": 31,
   "id": "688fff15",
   "metadata": {
    "canvas": {
     "comments": [],
     "componentType": "CodeCell",
     "copiedOriginId": null,
     "diskcache": false,
     "headerColor": "inherit",
     "id": "cb27641d-6661-4673-a47a-72d182ed4ee7",
     "isComponent": true,
     "name": "function for extract director",
     "parents": [
      {
       "id": "f209f98a-25e5-41ee-9768-8a615c6f9ac0",
       "name": "CnvrtFunctionGenreskeywordCast"
      }
     ]
    },
    "execution": {
     "iopub.execute_input": "2022-10-10T21:47:17.002244Z",
     "iopub.status.busy": "2022-10-10T21:47:17.001489Z",
     "iopub.status.idle": "2022-10-10T21:47:17.006972Z",
     "shell.execute_reply": "2022-10-10T21:47:17.005990Z"
    },
    "papermill": {
     "duration": 0.035571,
     "end_time": "2022-10-10T21:47:17.009191",
     "exception": false,
     "start_time": "2022-10-10T21:47:16.973620",
     "status": "completed"
    },
    "tags": []
   },
   "outputs": [],
   "source": [
    "##create a function for collect director name\n",
    "def director(obj):\n",
    "    l=[]\n",
    "    for i in ast.literal_eval(obj):\n",
    "        if i['job']=='Director':\n",
    "            l.append(i['name'])\n",
    "    return l"
   ]
  },
  {
   "cell_type": "markdown",
   "id": "ed9dd1f6",
   "metadata": {
    "papermill": {
     "duration": 0.025935,
     "end_time": "2022-10-10T21:47:17.060779",
     "exception": false,
     "start_time": "2022-10-10T21:47:17.034844",
     "status": "completed"
    },
    "tags": []
   },
   "source": [
    "**Apply all the function**"
   ]
  },
  {
   "cell_type": "code",
   "execution_count": 32,
   "id": "7253fc64",
   "metadata": {
    "canvas": {
     "comments": [],
     "componentType": "CodeCell",
     "copiedOriginId": null,
     "diskcache": false,
     "headerColor": "inherit",
     "id": "ba2ddf88-c775-4480-a034-770c6c0bb679",
     "isComponent": true,
     "name": "apply all function",
     "parents": [
      {
       "id": "cb27641d-6661-4673-a47a-72d182ed4ee7",
       "name": "function for extract director"
      }
     ]
    },
    "execution": {
     "iopub.execute_input": "2022-10-10T21:47:17.114994Z",
     "iopub.status.busy": "2022-10-10T21:47:17.114230Z",
     "iopub.status.idle": "2022-10-10T21:47:24.963840Z",
     "shell.execute_reply": "2022-10-10T21:47:24.962481Z"
    },
    "papermill": {
     "duration": 7.879458,
     "end_time": "2022-10-10T21:47:24.966547",
     "exception": false,
     "start_time": "2022-10-10T21:47:17.087089",
     "status": "completed"
    },
    "tags": []
   },
   "outputs": [
    {
     "name": "stderr",
     "output_type": "stream",
     "text": [
      "/opt/conda/lib/python3.7/site-packages/ipykernel_launcher.py:2: SettingWithCopyWarning: \n",
      "A value is trying to be set on a copy of a slice from a DataFrame.\n",
      "Try using .loc[row_indexer,col_indexer] = value instead\n",
      "\n",
      "See the caveats in the documentation: https://pandas.pydata.org/pandas-docs/stable/user_guide/indexing.html#returning-a-view-versus-a-copy\n",
      "  \n",
      "/opt/conda/lib/python3.7/site-packages/ipykernel_launcher.py:3: SettingWithCopyWarning: \n",
      "A value is trying to be set on a copy of a slice from a DataFrame.\n",
      "Try using .loc[row_indexer,col_indexer] = value instead\n",
      "\n",
      "See the caveats in the documentation: https://pandas.pydata.org/pandas-docs/stable/user_guide/indexing.html#returning-a-view-versus-a-copy\n",
      "  This is separate from the ipykernel package so we can avoid doing imports until\n",
      "/opt/conda/lib/python3.7/site-packages/ipykernel_launcher.py:4: SettingWithCopyWarning: \n",
      "A value is trying to be set on a copy of a slice from a DataFrame.\n",
      "Try using .loc[row_indexer,col_indexer] = value instead\n",
      "\n",
      "See the caveats in the documentation: https://pandas.pydata.org/pandas-docs/stable/user_guide/indexing.html#returning-a-view-versus-a-copy\n",
      "  after removing the cwd from sys.path.\n",
      "/opt/conda/lib/python3.7/site-packages/ipykernel_launcher.py:5: SettingWithCopyWarning: \n",
      "A value is trying to be set on a copy of a slice from a DataFrame.\n",
      "Try using .loc[row_indexer,col_indexer] = value instead\n",
      "\n",
      "See the caveats in the documentation: https://pandas.pydata.org/pandas-docs/stable/user_guide/indexing.html#returning-a-view-versus-a-copy\n",
      "  \"\"\"\n"
     ]
    }
   ],
   "source": [
    "##Apply all the function \n",
    "movies['genres']=movies['genres'].apply(convert)\n",
    "movies['keywords']=movies['keywords'].apply(convert)\n",
    "movies['cast']=movies['cast'].apply(convert)\n",
    "movies['crew']=movies['crew'].apply(director)"
   ]
  },
  {
   "cell_type": "code",
   "execution_count": 33,
   "id": "549a7610",
   "metadata": {
    "canvas": {
     "comments": [],
     "componentType": "CodeCell",
     "copiedOriginId": null,
     "diskcache": false,
     "headerColor": "inherit",
     "id": "7f244509-cff7-459e-93b6-7515c1328de1",
     "isComponent": false,
     "name": "",
     "parents": []
    },
    "execution": {
     "iopub.execute_input": "2022-10-10T21:47:25.023050Z",
     "iopub.status.busy": "2022-10-10T21:47:25.022229Z",
     "iopub.status.idle": "2022-10-10T21:47:25.054193Z",
     "shell.execute_reply": "2022-10-10T21:47:25.053283Z"
    },
    "papermill": {
     "duration": 0.062978,
     "end_time": "2022-10-10T21:47:25.056396",
     "exception": false,
     "start_time": "2022-10-10T21:47:24.993418",
     "status": "completed"
    },
    "tags": []
   },
   "outputs": [
    {
     "data": {
      "text/html": [
       "<div>\n",
       "<style scoped>\n",
       "    .dataframe tbody tr th:only-of-type {\n",
       "        vertical-align: middle;\n",
       "    }\n",
       "\n",
       "    .dataframe tbody tr th {\n",
       "        vertical-align: top;\n",
       "    }\n",
       "\n",
       "    .dataframe thead th {\n",
       "        text-align: right;\n",
       "    }\n",
       "</style>\n",
       "<table border=\"1\" class=\"dataframe\">\n",
       "  <thead>\n",
       "    <tr style=\"text-align: right;\">\n",
       "      <th></th>\n",
       "      <th>movie_id</th>\n",
       "      <th>original_title</th>\n",
       "      <th>overview</th>\n",
       "      <th>genres</th>\n",
       "      <th>cast</th>\n",
       "      <th>crew</th>\n",
       "      <th>keywords</th>\n",
       "    </tr>\n",
       "  </thead>\n",
       "  <tbody>\n",
       "    <tr>\n",
       "      <th>0</th>\n",
       "      <td>19995</td>\n",
       "      <td>Avatar</td>\n",
       "      <td>In the 22nd century, a paraplegic Marine is di...</td>\n",
       "      <td>[Action, Adventure, Fantasy, Science Fiction]</td>\n",
       "      <td>[Sam Worthington, Zoe Saldana, Sigourney Weave...</td>\n",
       "      <td>[James Cameron]</td>\n",
       "      <td>[culture clash, future, space war, space colon...</td>\n",
       "    </tr>\n",
       "    <tr>\n",
       "      <th>1</th>\n",
       "      <td>285</td>\n",
       "      <td>Pirates of the Caribbean: At World's End</td>\n",
       "      <td>Captain Barbossa, long believed to be dead, ha...</td>\n",
       "      <td>[Adventure, Fantasy, Action]</td>\n",
       "      <td>[Johnny Depp, Orlando Bloom, Keira Knightley, ...</td>\n",
       "      <td>[Gore Verbinski]</td>\n",
       "      <td>[ocean, drug abuse, exotic island, east india ...</td>\n",
       "    </tr>\n",
       "    <tr>\n",
       "      <th>2</th>\n",
       "      <td>206647</td>\n",
       "      <td>Spectre</td>\n",
       "      <td>A cryptic message from Bond’s past sends him o...</td>\n",
       "      <td>[Action, Adventure, Crime]</td>\n",
       "      <td>[Daniel Craig, Christoph Waltz, Léa Seydoux, R...</td>\n",
       "      <td>[Sam Mendes]</td>\n",
       "      <td>[spy, based on novel, secret agent, sequel, mi...</td>\n",
       "    </tr>\n",
       "    <tr>\n",
       "      <th>3</th>\n",
       "      <td>49026</td>\n",
       "      <td>The Dark Knight Rises</td>\n",
       "      <td>Following the death of District Attorney Harve...</td>\n",
       "      <td>[Action, Crime, Drama, Thriller]</td>\n",
       "      <td>[Christian Bale, Michael Caine, Gary Oldman, A...</td>\n",
       "      <td>[Christopher Nolan]</td>\n",
       "      <td>[dc comics, crime fighter, terrorist, secret i...</td>\n",
       "    </tr>\n",
       "    <tr>\n",
       "      <th>4</th>\n",
       "      <td>49529</td>\n",
       "      <td>John Carter</td>\n",
       "      <td>John Carter is a war-weary, former military ca...</td>\n",
       "      <td>[Action, Adventure, Science Fiction]</td>\n",
       "      <td>[Taylor Kitsch, Lynn Collins, Samantha Morton,...</td>\n",
       "      <td>[Andrew Stanton]</td>\n",
       "      <td>[based on novel, mars, medallion, space travel...</td>\n",
       "    </tr>\n",
       "    <tr>\n",
       "      <th>...</th>\n",
       "      <td>...</td>\n",
       "      <td>...</td>\n",
       "      <td>...</td>\n",
       "      <td>...</td>\n",
       "      <td>...</td>\n",
       "      <td>...</td>\n",
       "      <td>...</td>\n",
       "    </tr>\n",
       "    <tr>\n",
       "      <th>4804</th>\n",
       "      <td>9367</td>\n",
       "      <td>El Mariachi</td>\n",
       "      <td>El Mariachi just wants to play his guitar and ...</td>\n",
       "      <td>[Action, Crime, Thriller]</td>\n",
       "      <td>[Carlos Gallardo, Jaime de Hoyos, Peter Marqua...</td>\n",
       "      <td>[Robert Rodriguez]</td>\n",
       "      <td>[united states–mexico barrier, legs, arms, pap...</td>\n",
       "    </tr>\n",
       "    <tr>\n",
       "      <th>4805</th>\n",
       "      <td>72766</td>\n",
       "      <td>Newlyweds</td>\n",
       "      <td>A newlywed couple's honeymoon is upended by th...</td>\n",
       "      <td>[Comedy, Romance]</td>\n",
       "      <td>[Edward Burns, Kerry Bishé, Marsha Dietlein, C...</td>\n",
       "      <td>[Edward Burns]</td>\n",
       "      <td>[]</td>\n",
       "    </tr>\n",
       "    <tr>\n",
       "      <th>4806</th>\n",
       "      <td>231617</td>\n",
       "      <td>Signed, Sealed, Delivered</td>\n",
       "      <td>\"Signed, Sealed, Delivered\" introduces a dedic...</td>\n",
       "      <td>[Comedy, Drama, Romance, TV Movie]</td>\n",
       "      <td>[Eric Mabius, Kristin Booth, Crystal Lowe, Geo...</td>\n",
       "      <td>[Scott Smith]</td>\n",
       "      <td>[date, love at first sight, narration, investi...</td>\n",
       "    </tr>\n",
       "    <tr>\n",
       "      <th>4807</th>\n",
       "      <td>126186</td>\n",
       "      <td>Shanghai Calling</td>\n",
       "      <td>When ambitious New York attorney Sam is sent t...</td>\n",
       "      <td>[]</td>\n",
       "      <td>[Daniel Henney, Eliza Coupe, Bill Paxton, Alan...</td>\n",
       "      <td>[Daniel Hsia]</td>\n",
       "      <td>[]</td>\n",
       "    </tr>\n",
       "    <tr>\n",
       "      <th>4808</th>\n",
       "      <td>25975</td>\n",
       "      <td>My Date with Drew</td>\n",
       "      <td>Ever since the second grade when he first saw ...</td>\n",
       "      <td>[Documentary]</td>\n",
       "      <td>[Drew Barrymore, Brian Herzlinger, Corey Feldm...</td>\n",
       "      <td>[Brian Herzlinger, Jon Gunn, Brett Winn]</td>\n",
       "      <td>[obsession, camcorder, crush, dream girl]</td>\n",
       "    </tr>\n",
       "  </tbody>\n",
       "</table>\n",
       "<p>4806 rows × 7 columns</p>\n",
       "</div>"
      ],
      "text/plain": [
       "      movie_id                            original_title  \\\n",
       "0        19995                                    Avatar   \n",
       "1          285  Pirates of the Caribbean: At World's End   \n",
       "2       206647                                   Spectre   \n",
       "3        49026                     The Dark Knight Rises   \n",
       "4        49529                               John Carter   \n",
       "...        ...                                       ...   \n",
       "4804      9367                               El Mariachi   \n",
       "4805     72766                                 Newlyweds   \n",
       "4806    231617                 Signed, Sealed, Delivered   \n",
       "4807    126186                          Shanghai Calling   \n",
       "4808     25975                         My Date with Drew   \n",
       "\n",
       "                                               overview  \\\n",
       "0     In the 22nd century, a paraplegic Marine is di...   \n",
       "1     Captain Barbossa, long believed to be dead, ha...   \n",
       "2     A cryptic message from Bond’s past sends him o...   \n",
       "3     Following the death of District Attorney Harve...   \n",
       "4     John Carter is a war-weary, former military ca...   \n",
       "...                                                 ...   \n",
       "4804  El Mariachi just wants to play his guitar and ...   \n",
       "4805  A newlywed couple's honeymoon is upended by th...   \n",
       "4806  \"Signed, Sealed, Delivered\" introduces a dedic...   \n",
       "4807  When ambitious New York attorney Sam is sent t...   \n",
       "4808  Ever since the second grade when he first saw ...   \n",
       "\n",
       "                                             genres  \\\n",
       "0     [Action, Adventure, Fantasy, Science Fiction]   \n",
       "1                      [Adventure, Fantasy, Action]   \n",
       "2                        [Action, Adventure, Crime]   \n",
       "3                  [Action, Crime, Drama, Thriller]   \n",
       "4              [Action, Adventure, Science Fiction]   \n",
       "...                                             ...   \n",
       "4804                      [Action, Crime, Thriller]   \n",
       "4805                              [Comedy, Romance]   \n",
       "4806             [Comedy, Drama, Romance, TV Movie]   \n",
       "4807                                             []   \n",
       "4808                                  [Documentary]   \n",
       "\n",
       "                                                   cast  \\\n",
       "0     [Sam Worthington, Zoe Saldana, Sigourney Weave...   \n",
       "1     [Johnny Depp, Orlando Bloom, Keira Knightley, ...   \n",
       "2     [Daniel Craig, Christoph Waltz, Léa Seydoux, R...   \n",
       "3     [Christian Bale, Michael Caine, Gary Oldman, A...   \n",
       "4     [Taylor Kitsch, Lynn Collins, Samantha Morton,...   \n",
       "...                                                 ...   \n",
       "4804  [Carlos Gallardo, Jaime de Hoyos, Peter Marqua...   \n",
       "4805  [Edward Burns, Kerry Bishé, Marsha Dietlein, C...   \n",
       "4806  [Eric Mabius, Kristin Booth, Crystal Lowe, Geo...   \n",
       "4807  [Daniel Henney, Eliza Coupe, Bill Paxton, Alan...   \n",
       "4808  [Drew Barrymore, Brian Herzlinger, Corey Feldm...   \n",
       "\n",
       "                                          crew  \\\n",
       "0                              [James Cameron]   \n",
       "1                             [Gore Verbinski]   \n",
       "2                                 [Sam Mendes]   \n",
       "3                          [Christopher Nolan]   \n",
       "4                             [Andrew Stanton]   \n",
       "...                                        ...   \n",
       "4804                        [Robert Rodriguez]   \n",
       "4805                            [Edward Burns]   \n",
       "4806                             [Scott Smith]   \n",
       "4807                             [Daniel Hsia]   \n",
       "4808  [Brian Herzlinger, Jon Gunn, Brett Winn]   \n",
       "\n",
       "                                               keywords  \n",
       "0     [culture clash, future, space war, space colon...  \n",
       "1     [ocean, drug abuse, exotic island, east india ...  \n",
       "2     [spy, based on novel, secret agent, sequel, mi...  \n",
       "3     [dc comics, crime fighter, terrorist, secret i...  \n",
       "4     [based on novel, mars, medallion, space travel...  \n",
       "...                                                 ...  \n",
       "4804  [united states–mexico barrier, legs, arms, pap...  \n",
       "4805                                                 []  \n",
       "4806  [date, love at first sight, narration, investi...  \n",
       "4807                                                 []  \n",
       "4808          [obsession, camcorder, crush, dream girl]  \n",
       "\n",
       "[4806 rows x 7 columns]"
      ]
     },
     "execution_count": 33,
     "metadata": {},
     "output_type": "execute_result"
    }
   ],
   "source": [
    "movies"
   ]
  },
  {
   "cell_type": "markdown",
   "id": "72eae58d",
   "metadata": {
    "papermill": {
     "duration": 0.025752,
     "end_time": "2022-10-10T21:47:25.108484",
     "exception": false,
     "start_time": "2022-10-10T21:47:25.082732",
     "status": "completed"
    },
    "tags": []
   },
   "source": [
    "**Now Split the overview column and convert into list**"
   ]
  },
  {
   "cell_type": "code",
   "execution_count": 34,
   "id": "5cf3eccd",
   "metadata": {
    "canvas": {
     "comments": [],
     "componentType": "CodeCell",
     "copiedOriginId": null,
     "diskcache": false,
     "headerColor": "inherit",
     "id": "8f734527-3fb2-4e7e-8b9e-8db4cbdb28dc",
     "isComponent": true,
     "name": "split and covert list overview",
     "parents": [
      {
       "id": "ba2ddf88-c775-4480-a034-770c6c0bb679",
       "name": "apply all function"
      }
     ]
    },
    "execution": {
     "iopub.execute_input": "2022-10-10T21:47:25.162902Z",
     "iopub.status.busy": "2022-10-10T21:47:25.162172Z",
     "iopub.status.idle": "2022-10-10T21:47:25.205425Z",
     "shell.execute_reply": "2022-10-10T21:47:25.204135Z"
    },
    "papermill": {
     "duration": 0.073756,
     "end_time": "2022-10-10T21:47:25.208474",
     "exception": false,
     "start_time": "2022-10-10T21:47:25.134718",
     "status": "completed"
    },
    "tags": []
   },
   "outputs": [
    {
     "name": "stderr",
     "output_type": "stream",
     "text": [
      "/opt/conda/lib/python3.7/site-packages/ipykernel_launcher.py:1: SettingWithCopyWarning: \n",
      "A value is trying to be set on a copy of a slice from a DataFrame.\n",
      "Try using .loc[row_indexer,col_indexer] = value instead\n",
      "\n",
      "See the caveats in the documentation: https://pandas.pydata.org/pandas-docs/stable/user_guide/indexing.html#returning-a-view-versus-a-copy\n",
      "  \"\"\"Entry point for launching an IPython kernel.\n"
     ]
    }
   ],
   "source": [
    "movies['overview']=movies['overview'].apply(lambda x:x.split())"
   ]
  },
  {
   "cell_type": "code",
   "execution_count": 35,
   "id": "6bf23bce",
   "metadata": {
    "execution": {
     "iopub.execute_input": "2022-10-10T21:47:25.263188Z",
     "iopub.status.busy": "2022-10-10T21:47:25.262770Z",
     "iopub.status.idle": "2022-10-10T21:47:25.270905Z",
     "shell.execute_reply": "2022-10-10T21:47:25.269736Z"
    },
    "papermill": {
     "duration": 0.038162,
     "end_time": "2022-10-10T21:47:25.273410",
     "exception": false,
     "start_time": "2022-10-10T21:47:25.235248",
     "status": "completed"
    },
    "tags": []
   },
   "outputs": [
    {
     "data": {
      "text/plain": [
       "['In',\n",
       " 'the',\n",
       " '22nd',\n",
       " 'century,',\n",
       " 'a',\n",
       " 'paraplegic',\n",
       " 'Marine',\n",
       " 'is',\n",
       " 'dispatched',\n",
       " 'to',\n",
       " 'the',\n",
       " 'moon',\n",
       " 'Pandora',\n",
       " 'on',\n",
       " 'a',\n",
       " 'unique',\n",
       " 'mission,',\n",
       " 'but',\n",
       " 'becomes',\n",
       " 'torn',\n",
       " 'between',\n",
       " 'following',\n",
       " 'orders',\n",
       " 'and',\n",
       " 'protecting',\n",
       " 'an',\n",
       " 'alien',\n",
       " 'civilization.']"
      ]
     },
     "execution_count": 35,
     "metadata": {},
     "output_type": "execute_result"
    }
   ],
   "source": [
    "movies.iloc[0].overview"
   ]
  },
  {
   "cell_type": "markdown",
   "id": "1869b0e2",
   "metadata": {
    "papermill": {
     "duration": 0.026453,
     "end_time": "2022-10-10T21:47:25.326950",
     "exception": false,
     "start_time": "2022-10-10T21:47:25.300497",
     "status": "completed"
    },
    "tags": []
   },
   "source": [
    "**Create a function to remove space between words**"
   ]
  },
  {
   "cell_type": "code",
   "execution_count": 36,
   "id": "194c0a3b",
   "metadata": {
    "canvas": {
     "comments": [],
     "componentType": "CodeCell",
     "copiedOriginId": null,
     "diskcache": false,
     "headerColor": "inherit",
     "id": "a02daec4-5274-4d31-a6ec-57f6b590bb4b",
     "isComponent": true,
     "name": "Function of remove space",
     "parents": [
      {
       "id": "8f734527-3fb2-4e7e-8b9e-8db4cbdb28dc",
       "name": "split and covert list overview"
      }
     ]
    },
    "execution": {
     "iopub.execute_input": "2022-10-10T21:47:25.382300Z",
     "iopub.status.busy": "2022-10-10T21:47:25.381877Z",
     "iopub.status.idle": "2022-10-10T21:47:25.387718Z",
     "shell.execute_reply": "2022-10-10T21:47:25.386549Z"
    },
    "papermill": {
     "duration": 0.036601,
     "end_time": "2022-10-10T21:47:25.389999",
     "exception": false,
     "start_time": "2022-10-10T21:47:25.353398",
     "status": "completed"
    },
    "tags": []
   },
   "outputs": [],
   "source": [
    "## function to remove space\n",
    "\n",
    "def remove_space(string):\n",
    "    l=[]\n",
    "    for i in string:\n",
    "        l.append(i.replace(\" \",\"\"))\n",
    "    return l"
   ]
  },
  {
   "cell_type": "markdown",
   "id": "dd0cb243",
   "metadata": {
    "papermill": {
     "duration": 0.026178,
     "end_time": "2022-10-10T21:47:25.444877",
     "exception": false,
     "start_time": "2022-10-10T21:47:25.418699",
     "status": "completed"
    },
    "tags": []
   },
   "source": [
    "**Apply remove space function**"
   ]
  },
  {
   "cell_type": "code",
   "execution_count": 37,
   "id": "5e84f5cd",
   "metadata": {
    "canvas": {
     "comments": [],
     "componentType": "CodeCell",
     "copiedOriginId": null,
     "diskcache": false,
     "headerColor": "inherit",
     "id": "efa185b3-111c-48d3-8f44-3ce15fbc52a9",
     "isComponent": true,
     "name": "Apply remove space function",
     "parents": [
      {
       "id": "a02daec4-5274-4d31-a6ec-57f6b590bb4b",
       "name": "Function of remove space"
      }
     ]
    },
    "execution": {
     "iopub.execute_input": "2022-10-10T21:47:25.499712Z",
     "iopub.status.busy": "2022-10-10T21:47:25.499256Z",
     "iopub.status.idle": "2022-10-10T21:47:25.587852Z",
     "shell.execute_reply": "2022-10-10T21:47:25.585961Z"
    },
    "papermill": {
     "duration": 0.119301,
     "end_time": "2022-10-10T21:47:25.590995",
     "exception": false,
     "start_time": "2022-10-10T21:47:25.471694",
     "status": "completed"
    },
    "tags": []
   },
   "outputs": [
    {
     "name": "stderr",
     "output_type": "stream",
     "text": [
      "/opt/conda/lib/python3.7/site-packages/ipykernel_launcher.py:2: SettingWithCopyWarning: \n",
      "A value is trying to be set on a copy of a slice from a DataFrame.\n",
      "Try using .loc[row_indexer,col_indexer] = value instead\n",
      "\n",
      "See the caveats in the documentation: https://pandas.pydata.org/pandas-docs/stable/user_guide/indexing.html#returning-a-view-versus-a-copy\n",
      "  \n",
      "/opt/conda/lib/python3.7/site-packages/ipykernel_launcher.py:3: SettingWithCopyWarning: \n",
      "A value is trying to be set on a copy of a slice from a DataFrame.\n",
      "Try using .loc[row_indexer,col_indexer] = value instead\n",
      "\n",
      "See the caveats in the documentation: https://pandas.pydata.org/pandas-docs/stable/user_guide/indexing.html#returning-a-view-versus-a-copy\n",
      "  This is separate from the ipykernel package so we can avoid doing imports until\n",
      "/opt/conda/lib/python3.7/site-packages/ipykernel_launcher.py:4: SettingWithCopyWarning: \n",
      "A value is trying to be set on a copy of a slice from a DataFrame.\n",
      "Try using .loc[row_indexer,col_indexer] = value instead\n",
      "\n",
      "See the caveats in the documentation: https://pandas.pydata.org/pandas-docs/stable/user_guide/indexing.html#returning-a-view-versus-a-copy\n",
      "  after removing the cwd from sys.path.\n",
      "/opt/conda/lib/python3.7/site-packages/ipykernel_launcher.py:5: SettingWithCopyWarning: \n",
      "A value is trying to be set on a copy of a slice from a DataFrame.\n",
      "Try using .loc[row_indexer,col_indexer] = value instead\n",
      "\n",
      "See the caveats in the documentation: https://pandas.pydata.org/pandas-docs/stable/user_guide/indexing.html#returning-a-view-versus-a-copy\n",
      "  \"\"\"\n"
     ]
    }
   ],
   "source": [
    "## apply the remove function\n",
    "movies['genres']=movies['genres'].apply(remove_space)\n",
    "movies['keywords']=movies['keywords'].apply(remove_space)\n",
    "movies['cast']=movies['cast'].apply(remove_space)\n",
    "movies['crew']=movies['crew'].apply(remove_space)"
   ]
  },
  {
   "cell_type": "code",
   "execution_count": 38,
   "id": "07cd7ad6",
   "metadata": {
    "execution": {
     "iopub.execute_input": "2022-10-10T21:47:25.646077Z",
     "iopub.status.busy": "2022-10-10T21:47:25.645228Z",
     "iopub.status.idle": "2022-10-10T21:47:25.670789Z",
     "shell.execute_reply": "2022-10-10T21:47:25.669471Z"
    },
    "papermill": {
     "duration": 0.055938,
     "end_time": "2022-10-10T21:47:25.673435",
     "exception": false,
     "start_time": "2022-10-10T21:47:25.617497",
     "status": "completed"
    },
    "tags": []
   },
   "outputs": [
    {
     "data": {
      "text/html": [
       "<div>\n",
       "<style scoped>\n",
       "    .dataframe tbody tr th:only-of-type {\n",
       "        vertical-align: middle;\n",
       "    }\n",
       "\n",
       "    .dataframe tbody tr th {\n",
       "        vertical-align: top;\n",
       "    }\n",
       "\n",
       "    .dataframe thead th {\n",
       "        text-align: right;\n",
       "    }\n",
       "</style>\n",
       "<table border=\"1\" class=\"dataframe\">\n",
       "  <thead>\n",
       "    <tr style=\"text-align: right;\">\n",
       "      <th></th>\n",
       "      <th>movie_id</th>\n",
       "      <th>original_title</th>\n",
       "      <th>overview</th>\n",
       "      <th>genres</th>\n",
       "      <th>cast</th>\n",
       "      <th>crew</th>\n",
       "      <th>keywords</th>\n",
       "    </tr>\n",
       "  </thead>\n",
       "  <tbody>\n",
       "    <tr>\n",
       "      <th>0</th>\n",
       "      <td>19995</td>\n",
       "      <td>Avatar</td>\n",
       "      <td>[In, the, 22nd, century,, a, paraplegic, Marin...</td>\n",
       "      <td>[Action, Adventure, Fantasy, ScienceFiction]</td>\n",
       "      <td>[SamWorthington, ZoeSaldana, SigourneyWeaver, ...</td>\n",
       "      <td>[JamesCameron]</td>\n",
       "      <td>[cultureclash, future, spacewar, spacecolony, ...</td>\n",
       "    </tr>\n",
       "    <tr>\n",
       "      <th>1</th>\n",
       "      <td>285</td>\n",
       "      <td>Pirates of the Caribbean: At World's End</td>\n",
       "      <td>[Captain, Barbossa,, long, believed, to, be, d...</td>\n",
       "      <td>[Adventure, Fantasy, Action]</td>\n",
       "      <td>[JohnnyDepp, OrlandoBloom, KeiraKnightley, Ste...</td>\n",
       "      <td>[GoreVerbinski]</td>\n",
       "      <td>[ocean, drugabuse, exoticisland, eastindiatrad...</td>\n",
       "    </tr>\n",
       "    <tr>\n",
       "      <th>2</th>\n",
       "      <td>206647</td>\n",
       "      <td>Spectre</td>\n",
       "      <td>[A, cryptic, message, from, Bond’s, past, send...</td>\n",
       "      <td>[Action, Adventure, Crime]</td>\n",
       "      <td>[DanielCraig, ChristophWaltz, LéaSeydoux, Ralp...</td>\n",
       "      <td>[SamMendes]</td>\n",
       "      <td>[spy, basedonnovel, secretagent, sequel, mi6, ...</td>\n",
       "    </tr>\n",
       "    <tr>\n",
       "      <th>3</th>\n",
       "      <td>49026</td>\n",
       "      <td>The Dark Knight Rises</td>\n",
       "      <td>[Following, the, death, of, District, Attorney...</td>\n",
       "      <td>[Action, Crime, Drama, Thriller]</td>\n",
       "      <td>[ChristianBale, MichaelCaine, GaryOldman, Anne...</td>\n",
       "      <td>[ChristopherNolan]</td>\n",
       "      <td>[dccomics, crimefighter, terrorist, secretiden...</td>\n",
       "    </tr>\n",
       "    <tr>\n",
       "      <th>4</th>\n",
       "      <td>49529</td>\n",
       "      <td>John Carter</td>\n",
       "      <td>[John, Carter, is, a, war-weary,, former, mili...</td>\n",
       "      <td>[Action, Adventure, ScienceFiction]</td>\n",
       "      <td>[TaylorKitsch, LynnCollins, SamanthaMorton, Wi...</td>\n",
       "      <td>[AndrewStanton]</td>\n",
       "      <td>[basedonnovel, mars, medallion, spacetravel, p...</td>\n",
       "    </tr>\n",
       "  </tbody>\n",
       "</table>\n",
       "</div>"
      ],
      "text/plain": [
       "   movie_id                            original_title  \\\n",
       "0     19995                                    Avatar   \n",
       "1       285  Pirates of the Caribbean: At World's End   \n",
       "2    206647                                   Spectre   \n",
       "3     49026                     The Dark Knight Rises   \n",
       "4     49529                               John Carter   \n",
       "\n",
       "                                            overview  \\\n",
       "0  [In, the, 22nd, century,, a, paraplegic, Marin...   \n",
       "1  [Captain, Barbossa,, long, believed, to, be, d...   \n",
       "2  [A, cryptic, message, from, Bond’s, past, send...   \n",
       "3  [Following, the, death, of, District, Attorney...   \n",
       "4  [John, Carter, is, a, war-weary,, former, mili...   \n",
       "\n",
       "                                         genres  \\\n",
       "0  [Action, Adventure, Fantasy, ScienceFiction]   \n",
       "1                  [Adventure, Fantasy, Action]   \n",
       "2                    [Action, Adventure, Crime]   \n",
       "3              [Action, Crime, Drama, Thriller]   \n",
       "4           [Action, Adventure, ScienceFiction]   \n",
       "\n",
       "                                                cast                crew  \\\n",
       "0  [SamWorthington, ZoeSaldana, SigourneyWeaver, ...      [JamesCameron]   \n",
       "1  [JohnnyDepp, OrlandoBloom, KeiraKnightley, Ste...     [GoreVerbinski]   \n",
       "2  [DanielCraig, ChristophWaltz, LéaSeydoux, Ralp...         [SamMendes]   \n",
       "3  [ChristianBale, MichaelCaine, GaryOldman, Anne...  [ChristopherNolan]   \n",
       "4  [TaylorKitsch, LynnCollins, SamanthaMorton, Wi...     [AndrewStanton]   \n",
       "\n",
       "                                            keywords  \n",
       "0  [cultureclash, future, spacewar, spacecolony, ...  \n",
       "1  [ocean, drugabuse, exoticisland, eastindiatrad...  \n",
       "2  [spy, basedonnovel, secretagent, sequel, mi6, ...  \n",
       "3  [dccomics, crimefighter, terrorist, secretiden...  \n",
       "4  [basedonnovel, mars, medallion, spacetravel, p...  "
      ]
     },
     "execution_count": 38,
     "metadata": {},
     "output_type": "execute_result"
    }
   ],
   "source": [
    "movies.head()"
   ]
  },
  {
   "cell_type": "markdown",
   "id": "3304e453",
   "metadata": {
    "papermill": {
     "duration": 0.026815,
     "end_time": "2022-10-10T21:47:25.727117",
     "exception": false,
     "start_time": "2022-10-10T21:47:25.700302",
     "status": "completed"
    },
    "tags": []
   },
   "source": [
    "**Merge genres and keyword columns. movies will be recommended based on these two-column data.**"
   ]
  },
  {
   "cell_type": "code",
   "execution_count": 39,
   "id": "0480820a",
   "metadata": {
    "canvas": {
     "comments": [],
     "componentType": "CodeCell",
     "copiedOriginId": null,
     "diskcache": false,
     "headerColor": "inherit",
     "id": "4b9831d6-1b69-46c9-aecc-13fb6fda810a",
     "isComponent": false,
     "name": "",
     "parents": []
    },
    "execution": {
     "iopub.execute_input": "2022-10-10T21:47:25.782225Z",
     "iopub.status.busy": "2022-10-10T21:47:25.781795Z",
     "iopub.status.idle": "2022-10-10T21:47:25.791051Z",
     "shell.execute_reply": "2022-10-10T21:47:25.789963Z"
    },
    "papermill": {
     "duration": 0.040092,
     "end_time": "2022-10-10T21:47:25.793801",
     "exception": false,
     "start_time": "2022-10-10T21:47:25.753709",
     "status": "completed"
    },
    "tags": []
   },
   "outputs": [
    {
     "name": "stderr",
     "output_type": "stream",
     "text": [
      "/opt/conda/lib/python3.7/site-packages/ipykernel_launcher.py:3: SettingWithCopyWarning: \n",
      "A value is trying to be set on a copy of a slice from a DataFrame.\n",
      "Try using .loc[row_indexer,col_indexer] = value instead\n",
      "\n",
      "See the caveats in the documentation: https://pandas.pydata.org/pandas-docs/stable/user_guide/indexing.html#returning-a-view-versus-a-copy\n",
      "  This is separate from the ipykernel package so we can avoid doing imports until\n"
     ]
    }
   ],
   "source": [
    "## Merge all columns\n",
    "# movies['tags']=movies['overview']+movies['genres']+movies['keywords']+movies['cast']+movies['crew']\n",
    "movies['tags']=movies['genres']+movies['keywords']\n",
    "# movies.head()"
   ]
  },
  {
   "cell_type": "code",
   "execution_count": 40,
   "id": "dbb49e79",
   "metadata": {
    "execution": {
     "iopub.execute_input": "2022-10-10T21:47:25.850439Z",
     "iopub.status.busy": "2022-10-10T21:47:25.849726Z",
     "iopub.status.idle": "2022-10-10T21:47:25.879670Z",
     "shell.execute_reply": "2022-10-10T21:47:25.878443Z"
    },
    "papermill": {
     "duration": 0.061312,
     "end_time": "2022-10-10T21:47:25.882103",
     "exception": false,
     "start_time": "2022-10-10T21:47:25.820791",
     "status": "completed"
    },
    "tags": []
   },
   "outputs": [
    {
     "data": {
      "text/html": [
       "<div>\n",
       "<style scoped>\n",
       "    .dataframe tbody tr th:only-of-type {\n",
       "        vertical-align: middle;\n",
       "    }\n",
       "\n",
       "    .dataframe tbody tr th {\n",
       "        vertical-align: top;\n",
       "    }\n",
       "\n",
       "    .dataframe thead th {\n",
       "        text-align: right;\n",
       "    }\n",
       "</style>\n",
       "<table border=\"1\" class=\"dataframe\">\n",
       "  <thead>\n",
       "    <tr style=\"text-align: right;\">\n",
       "      <th></th>\n",
       "      <th>movie_id</th>\n",
       "      <th>original_title</th>\n",
       "      <th>overview</th>\n",
       "      <th>genres</th>\n",
       "      <th>cast</th>\n",
       "      <th>crew</th>\n",
       "      <th>keywords</th>\n",
       "      <th>tags</th>\n",
       "    </tr>\n",
       "  </thead>\n",
       "  <tbody>\n",
       "    <tr>\n",
       "      <th>0</th>\n",
       "      <td>19995</td>\n",
       "      <td>Avatar</td>\n",
       "      <td>[In, the, 22nd, century,, a, paraplegic, Marin...</td>\n",
       "      <td>[Action, Adventure, Fantasy, ScienceFiction]</td>\n",
       "      <td>[SamWorthington, ZoeSaldana, SigourneyWeaver, ...</td>\n",
       "      <td>[JamesCameron]</td>\n",
       "      <td>[cultureclash, future, spacewar, spacecolony, ...</td>\n",
       "      <td>[Action, Adventure, Fantasy, ScienceFiction, c...</td>\n",
       "    </tr>\n",
       "    <tr>\n",
       "      <th>1</th>\n",
       "      <td>285</td>\n",
       "      <td>Pirates of the Caribbean: At World's End</td>\n",
       "      <td>[Captain, Barbossa,, long, believed, to, be, d...</td>\n",
       "      <td>[Adventure, Fantasy, Action]</td>\n",
       "      <td>[JohnnyDepp, OrlandoBloom, KeiraKnightley, Ste...</td>\n",
       "      <td>[GoreVerbinski]</td>\n",
       "      <td>[ocean, drugabuse, exoticisland, eastindiatrad...</td>\n",
       "      <td>[Adventure, Fantasy, Action, ocean, drugabuse,...</td>\n",
       "    </tr>\n",
       "    <tr>\n",
       "      <th>2</th>\n",
       "      <td>206647</td>\n",
       "      <td>Spectre</td>\n",
       "      <td>[A, cryptic, message, from, Bond’s, past, send...</td>\n",
       "      <td>[Action, Adventure, Crime]</td>\n",
       "      <td>[DanielCraig, ChristophWaltz, LéaSeydoux, Ralp...</td>\n",
       "      <td>[SamMendes]</td>\n",
       "      <td>[spy, basedonnovel, secretagent, sequel, mi6, ...</td>\n",
       "      <td>[Action, Adventure, Crime, spy, basedonnovel, ...</td>\n",
       "    </tr>\n",
       "    <tr>\n",
       "      <th>3</th>\n",
       "      <td>49026</td>\n",
       "      <td>The Dark Knight Rises</td>\n",
       "      <td>[Following, the, death, of, District, Attorney...</td>\n",
       "      <td>[Action, Crime, Drama, Thriller]</td>\n",
       "      <td>[ChristianBale, MichaelCaine, GaryOldman, Anne...</td>\n",
       "      <td>[ChristopherNolan]</td>\n",
       "      <td>[dccomics, crimefighter, terrorist, secretiden...</td>\n",
       "      <td>[Action, Crime, Drama, Thriller, dccomics, cri...</td>\n",
       "    </tr>\n",
       "    <tr>\n",
       "      <th>4</th>\n",
       "      <td>49529</td>\n",
       "      <td>John Carter</td>\n",
       "      <td>[John, Carter, is, a, war-weary,, former, mili...</td>\n",
       "      <td>[Action, Adventure, ScienceFiction]</td>\n",
       "      <td>[TaylorKitsch, LynnCollins, SamanthaMorton, Wi...</td>\n",
       "      <td>[AndrewStanton]</td>\n",
       "      <td>[basedonnovel, mars, medallion, spacetravel, p...</td>\n",
       "      <td>[Action, Adventure, ScienceFiction, basedonnov...</td>\n",
       "    </tr>\n",
       "  </tbody>\n",
       "</table>\n",
       "</div>"
      ],
      "text/plain": [
       "   movie_id                            original_title  \\\n",
       "0     19995                                    Avatar   \n",
       "1       285  Pirates of the Caribbean: At World's End   \n",
       "2    206647                                   Spectre   \n",
       "3     49026                     The Dark Knight Rises   \n",
       "4     49529                               John Carter   \n",
       "\n",
       "                                            overview  \\\n",
       "0  [In, the, 22nd, century,, a, paraplegic, Marin...   \n",
       "1  [Captain, Barbossa,, long, believed, to, be, d...   \n",
       "2  [A, cryptic, message, from, Bond’s, past, send...   \n",
       "3  [Following, the, death, of, District, Attorney...   \n",
       "4  [John, Carter, is, a, war-weary,, former, mili...   \n",
       "\n",
       "                                         genres  \\\n",
       "0  [Action, Adventure, Fantasy, ScienceFiction]   \n",
       "1                  [Adventure, Fantasy, Action]   \n",
       "2                    [Action, Adventure, Crime]   \n",
       "3              [Action, Crime, Drama, Thriller]   \n",
       "4           [Action, Adventure, ScienceFiction]   \n",
       "\n",
       "                                                cast                crew  \\\n",
       "0  [SamWorthington, ZoeSaldana, SigourneyWeaver, ...      [JamesCameron]   \n",
       "1  [JohnnyDepp, OrlandoBloom, KeiraKnightley, Ste...     [GoreVerbinski]   \n",
       "2  [DanielCraig, ChristophWaltz, LéaSeydoux, Ralp...         [SamMendes]   \n",
       "3  [ChristianBale, MichaelCaine, GaryOldman, Anne...  [ChristopherNolan]   \n",
       "4  [TaylorKitsch, LynnCollins, SamanthaMorton, Wi...     [AndrewStanton]   \n",
       "\n",
       "                                            keywords  \\\n",
       "0  [cultureclash, future, spacewar, spacecolony, ...   \n",
       "1  [ocean, drugabuse, exoticisland, eastindiatrad...   \n",
       "2  [spy, basedonnovel, secretagent, sequel, mi6, ...   \n",
       "3  [dccomics, crimefighter, terrorist, secretiden...   \n",
       "4  [basedonnovel, mars, medallion, spacetravel, p...   \n",
       "\n",
       "                                                tags  \n",
       "0  [Action, Adventure, Fantasy, ScienceFiction, c...  \n",
       "1  [Adventure, Fantasy, Action, ocean, drugabuse,...  \n",
       "2  [Action, Adventure, Crime, spy, basedonnovel, ...  \n",
       "3  [Action, Crime, Drama, Thriller, dccomics, cri...  \n",
       "4  [Action, Adventure, ScienceFiction, basedonnov...  "
      ]
     },
     "execution_count": 40,
     "metadata": {},
     "output_type": "execute_result"
    }
   ],
   "source": [
    "movies.head()"
   ]
  },
  {
   "cell_type": "markdown",
   "id": "3c1a58a4",
   "metadata": {
    "papermill": {
     "duration": 0.027686,
     "end_time": "2022-10-10T21:47:25.937724",
     "exception": false,
     "start_time": "2022-10-10T21:47:25.910038",
     "status": "completed"
    },
    "tags": []
   },
   "source": [
    "**Drop other column**"
   ]
  },
  {
   "cell_type": "code",
   "execution_count": 41,
   "id": "781a204f",
   "metadata": {
    "canvas": {
     "comments": [],
     "componentType": "CodeCell",
     "copiedOriginId": null,
     "diskcache": false,
     "headerColor": "inherit",
     "id": "60b1a547-3a6a-4604-a41c-738da78b5c8b",
     "isComponent": false,
     "name": "",
     "parents": []
    },
    "execution": {
     "iopub.execute_input": "2022-10-10T21:47:25.993956Z",
     "iopub.status.busy": "2022-10-10T21:47:25.993519Z",
     "iopub.status.idle": "2022-10-10T21:47:26.001192Z",
     "shell.execute_reply": "2022-10-10T21:47:26.000025Z"
    },
    "papermill": {
     "duration": 0.038744,
     "end_time": "2022-10-10T21:47:26.003491",
     "exception": false,
     "start_time": "2022-10-10T21:47:25.964747",
     "status": "completed"
    },
    "tags": []
   },
   "outputs": [],
   "source": [
    "##Drop other column\n",
    "new_movies=movies.drop(columns=['overview','genres','keywords','cast','crew'])"
   ]
  },
  {
   "cell_type": "code",
   "execution_count": 42,
   "id": "795b565d",
   "metadata": {
    "execution": {
     "iopub.execute_input": "2022-10-10T21:47:26.061636Z",
     "iopub.status.busy": "2022-10-10T21:47:26.060938Z",
     "iopub.status.idle": "2022-10-10T21:47:26.074197Z",
     "shell.execute_reply": "2022-10-10T21:47:26.073106Z"
    },
    "papermill": {
     "duration": 0.044817,
     "end_time": "2022-10-10T21:47:26.076836",
     "exception": false,
     "start_time": "2022-10-10T21:47:26.032019",
     "status": "completed"
    },
    "tags": []
   },
   "outputs": [
    {
     "data": {
      "text/html": [
       "<div>\n",
       "<style scoped>\n",
       "    .dataframe tbody tr th:only-of-type {\n",
       "        vertical-align: middle;\n",
       "    }\n",
       "\n",
       "    .dataframe tbody tr th {\n",
       "        vertical-align: top;\n",
       "    }\n",
       "\n",
       "    .dataframe thead th {\n",
       "        text-align: right;\n",
       "    }\n",
       "</style>\n",
       "<table border=\"1\" class=\"dataframe\">\n",
       "  <thead>\n",
       "    <tr style=\"text-align: right;\">\n",
       "      <th></th>\n",
       "      <th>movie_id</th>\n",
       "      <th>original_title</th>\n",
       "      <th>tags</th>\n",
       "    </tr>\n",
       "  </thead>\n",
       "  <tbody>\n",
       "    <tr>\n",
       "      <th>0</th>\n",
       "      <td>19995</td>\n",
       "      <td>Avatar</td>\n",
       "      <td>[Action, Adventure, Fantasy, ScienceFiction, c...</td>\n",
       "    </tr>\n",
       "    <tr>\n",
       "      <th>1</th>\n",
       "      <td>285</td>\n",
       "      <td>Pirates of the Caribbean: At World's End</td>\n",
       "      <td>[Adventure, Fantasy, Action, ocean, drugabuse,...</td>\n",
       "    </tr>\n",
       "    <tr>\n",
       "      <th>2</th>\n",
       "      <td>206647</td>\n",
       "      <td>Spectre</td>\n",
       "      <td>[Action, Adventure, Crime, spy, basedonnovel, ...</td>\n",
       "    </tr>\n",
       "    <tr>\n",
       "      <th>3</th>\n",
       "      <td>49026</td>\n",
       "      <td>The Dark Knight Rises</td>\n",
       "      <td>[Action, Crime, Drama, Thriller, dccomics, cri...</td>\n",
       "    </tr>\n",
       "    <tr>\n",
       "      <th>4</th>\n",
       "      <td>49529</td>\n",
       "      <td>John Carter</td>\n",
       "      <td>[Action, Adventure, ScienceFiction, basedonnov...</td>\n",
       "    </tr>\n",
       "  </tbody>\n",
       "</table>\n",
       "</div>"
      ],
      "text/plain": [
       "   movie_id                            original_title  \\\n",
       "0     19995                                    Avatar   \n",
       "1       285  Pirates of the Caribbean: At World's End   \n",
       "2    206647                                   Spectre   \n",
       "3     49026                     The Dark Knight Rises   \n",
       "4     49529                               John Carter   \n",
       "\n",
       "                                                tags  \n",
       "0  [Action, Adventure, Fantasy, ScienceFiction, c...  \n",
       "1  [Adventure, Fantasy, Action, ocean, drugabuse,...  \n",
       "2  [Action, Adventure, Crime, spy, basedonnovel, ...  \n",
       "3  [Action, Crime, Drama, Thriller, dccomics, cri...  \n",
       "4  [Action, Adventure, ScienceFiction, basedonnov...  "
      ]
     },
     "execution_count": 42,
     "metadata": {},
     "output_type": "execute_result"
    }
   ],
   "source": [
    "new_movies.head()"
   ]
  },
  {
   "cell_type": "code",
   "execution_count": 43,
   "id": "750e9892",
   "metadata": {
    "canvas": {
     "comments": [],
     "componentType": "CodeCell",
     "copiedOriginId": null,
     "diskcache": false,
     "headerColor": "inherit",
     "id": "a6d5d5e3-b5a0-4708-840f-0fb6a2617b5b",
     "isComponent": false,
     "name": "",
     "parents": []
    },
    "execution": {
     "iopub.execute_input": "2022-10-10T21:47:26.136880Z",
     "iopub.status.busy": "2022-10-10T21:47:26.136450Z",
     "iopub.status.idle": "2022-10-10T21:47:26.146806Z",
     "shell.execute_reply": "2022-10-10T21:47:26.145664Z"
    },
    "papermill": {
     "duration": 0.043036,
     "end_time": "2022-10-10T21:47:26.149231",
     "exception": false,
     "start_time": "2022-10-10T21:47:26.106195",
     "status": "completed"
    },
    "tags": []
   },
   "outputs": [],
   "source": [
    "##cnvrt tags column list to text\n",
    "new_movies['tags']=new_movies['tags'].apply(lambda x:\" \".join(x))"
   ]
  },
  {
   "cell_type": "code",
   "execution_count": 44,
   "id": "b261e2f4",
   "metadata": {
    "canvas": {
     "comments": [],
     "componentType": "CodeCell",
     "copiedOriginId": null,
     "diskcache": false,
     "headerColor": "inherit",
     "id": "096e0fb9-f6da-433a-b039-af7ab638da60",
     "isComponent": false,
     "name": "",
     "parents": []
    },
    "execution": {
     "iopub.execute_input": "2022-10-10T21:47:26.204987Z",
     "iopub.status.busy": "2022-10-10T21:47:26.204548Z",
     "iopub.status.idle": "2022-10-10T21:47:26.213126Z",
     "shell.execute_reply": "2022-10-10T21:47:26.211995Z"
    },
    "papermill": {
     "duration": 0.039162,
     "end_time": "2022-10-10T21:47:26.215561",
     "exception": false,
     "start_time": "2022-10-10T21:47:26.176399",
     "status": "completed"
    },
    "tags": []
   },
   "outputs": [],
   "source": [
    "##Convert all text to lower\n",
    "new_movies['tags']=new_movies['tags'].apply(lambda x:x.lower())"
   ]
  },
  {
   "cell_type": "code",
   "execution_count": 45,
   "id": "89e19feb",
   "metadata": {
    "execution": {
     "iopub.execute_input": "2022-10-10T21:47:26.274051Z",
     "iopub.status.busy": "2022-10-10T21:47:26.273591Z",
     "iopub.status.idle": "2022-10-10T21:47:26.285167Z",
     "shell.execute_reply": "2022-10-10T21:47:26.284244Z"
    },
    "papermill": {
     "duration": 0.043588,
     "end_time": "2022-10-10T21:47:26.287360",
     "exception": false,
     "start_time": "2022-10-10T21:47:26.243772",
     "status": "completed"
    },
    "tags": []
   },
   "outputs": [
    {
     "data": {
      "text/html": [
       "<div>\n",
       "<style scoped>\n",
       "    .dataframe tbody tr th:only-of-type {\n",
       "        vertical-align: middle;\n",
       "    }\n",
       "\n",
       "    .dataframe tbody tr th {\n",
       "        vertical-align: top;\n",
       "    }\n",
       "\n",
       "    .dataframe thead th {\n",
       "        text-align: right;\n",
       "    }\n",
       "</style>\n",
       "<table border=\"1\" class=\"dataframe\">\n",
       "  <thead>\n",
       "    <tr style=\"text-align: right;\">\n",
       "      <th></th>\n",
       "      <th>movie_id</th>\n",
       "      <th>original_title</th>\n",
       "      <th>tags</th>\n",
       "    </tr>\n",
       "  </thead>\n",
       "  <tbody>\n",
       "    <tr>\n",
       "      <th>0</th>\n",
       "      <td>19995</td>\n",
       "      <td>Avatar</td>\n",
       "      <td>action adventure fantasy sciencefiction cultur...</td>\n",
       "    </tr>\n",
       "    <tr>\n",
       "      <th>1</th>\n",
       "      <td>285</td>\n",
       "      <td>Pirates of the Caribbean: At World's End</td>\n",
       "      <td>adventure fantasy action ocean drugabuse exoti...</td>\n",
       "    </tr>\n",
       "    <tr>\n",
       "      <th>2</th>\n",
       "      <td>206647</td>\n",
       "      <td>Spectre</td>\n",
       "      <td>action adventure crime spy basedonnovel secret...</td>\n",
       "    </tr>\n",
       "    <tr>\n",
       "      <th>3</th>\n",
       "      <td>49026</td>\n",
       "      <td>The Dark Knight Rises</td>\n",
       "      <td>action crime drama thriller dccomics crimefigh...</td>\n",
       "    </tr>\n",
       "    <tr>\n",
       "      <th>4</th>\n",
       "      <td>49529</td>\n",
       "      <td>John Carter</td>\n",
       "      <td>action adventure sciencefiction basedonnovel m...</td>\n",
       "    </tr>\n",
       "  </tbody>\n",
       "</table>\n",
       "</div>"
      ],
      "text/plain": [
       "   movie_id                            original_title  \\\n",
       "0     19995                                    Avatar   \n",
       "1       285  Pirates of the Caribbean: At World's End   \n",
       "2    206647                                   Spectre   \n",
       "3     49026                     The Dark Knight Rises   \n",
       "4     49529                               John Carter   \n",
       "\n",
       "                                                tags  \n",
       "0  action adventure fantasy sciencefiction cultur...  \n",
       "1  adventure fantasy action ocean drugabuse exoti...  \n",
       "2  action adventure crime spy basedonnovel secret...  \n",
       "3  action crime drama thriller dccomics crimefigh...  \n",
       "4  action adventure sciencefiction basedonnovel m...  "
      ]
     },
     "execution_count": 45,
     "metadata": {},
     "output_type": "execute_result"
    }
   ],
   "source": [
    "new_movies.head()"
   ]
  },
  {
   "cell_type": "markdown",
   "id": "1a65e90d",
   "metadata": {
    "papermill": {
     "duration": 0.027721,
     "end_time": "2022-10-10T21:47:26.342902",
     "exception": false,
     "start_time": "2022-10-10T21:47:26.315181",
     "status": "completed"
    },
    "tags": []
   },
   "source": [
    "# Remove same and duplicate word"
   ]
  },
  {
   "cell_type": "code",
   "execution_count": 46,
   "id": "0e3c53d3",
   "metadata": {
    "canvas": {
     "comments": [],
     "componentType": "CodeCell",
     "copiedOriginId": null,
     "diskcache": false,
     "headerColor": "inherit",
     "id": "5e0d4de6-31e0-4895-a696-9a19af91facf",
     "isComponent": false,
     "name": "",
     "parents": []
    },
    "execution": {
     "iopub.execute_input": "2022-10-10T21:47:26.401023Z",
     "iopub.status.busy": "2022-10-10T21:47:26.400607Z",
     "iopub.status.idle": "2022-10-10T21:47:26.406816Z",
     "shell.execute_reply": "2022-10-10T21:47:26.405541Z"
    },
    "papermill": {
     "duration": 0.038026,
     "end_time": "2022-10-10T21:47:26.409163",
     "exception": false,
     "start_time": "2022-10-10T21:47:26.371137",
     "status": "completed"
    },
    "tags": []
   },
   "outputs": [],
   "source": [
    "## Remove same and duplicate word\n",
    "from nltk.stem.porter import PorterStemmer\n",
    "ps=PorterStemmer()\n",
    "def stem(text):\n",
    "    y=[]\n",
    "    for i in text.split():\n",
    "        y.append(ps.stem(i))\n",
    "    return \" \".join(y)"
   ]
  },
  {
   "cell_type": "code",
   "execution_count": 47,
   "id": "b2fb06c3",
   "metadata": {
    "execution": {
     "iopub.execute_input": "2022-10-10T21:47:26.469668Z",
     "iopub.status.busy": "2022-10-10T21:47:26.469254Z",
     "iopub.status.idle": "2022-10-10T21:47:27.823234Z",
     "shell.execute_reply": "2022-10-10T21:47:27.822002Z"
    },
    "papermill": {
     "duration": 1.387733,
     "end_time": "2022-10-10T21:47:27.826135",
     "exception": false,
     "start_time": "2022-10-10T21:47:26.438402",
     "status": "completed"
    },
    "tags": []
   },
   "outputs": [],
   "source": [
    "new_movies['tags']=new_movies['tags'].apply(stem)"
   ]
  },
  {
   "cell_type": "code",
   "execution_count": 48,
   "id": "85632c8d",
   "metadata": {
    "execution": {
     "iopub.execute_input": "2022-10-10T21:47:27.883280Z",
     "iopub.status.busy": "2022-10-10T21:47:27.882840Z",
     "iopub.status.idle": "2022-10-10T21:47:27.894559Z",
     "shell.execute_reply": "2022-10-10T21:47:27.893252Z"
    },
    "papermill": {
     "duration": 0.043024,
     "end_time": "2022-10-10T21:47:27.897056",
     "exception": false,
     "start_time": "2022-10-10T21:47:27.854032",
     "status": "completed"
    },
    "tags": []
   },
   "outputs": [
    {
     "data": {
      "text/html": [
       "<div>\n",
       "<style scoped>\n",
       "    .dataframe tbody tr th:only-of-type {\n",
       "        vertical-align: middle;\n",
       "    }\n",
       "\n",
       "    .dataframe tbody tr th {\n",
       "        vertical-align: top;\n",
       "    }\n",
       "\n",
       "    .dataframe thead th {\n",
       "        text-align: right;\n",
       "    }\n",
       "</style>\n",
       "<table border=\"1\" class=\"dataframe\">\n",
       "  <thead>\n",
       "    <tr style=\"text-align: right;\">\n",
       "      <th></th>\n",
       "      <th>movie_id</th>\n",
       "      <th>original_title</th>\n",
       "      <th>tags</th>\n",
       "    </tr>\n",
       "  </thead>\n",
       "  <tbody>\n",
       "    <tr>\n",
       "      <th>0</th>\n",
       "      <td>19995</td>\n",
       "      <td>Avatar</td>\n",
       "      <td>action adventur fantasi sciencefict culturecla...</td>\n",
       "    </tr>\n",
       "    <tr>\n",
       "      <th>1</th>\n",
       "      <td>285</td>\n",
       "      <td>Pirates of the Caribbean: At World's End</td>\n",
       "      <td>adventur fantasi action ocean drugabus exotici...</td>\n",
       "    </tr>\n",
       "    <tr>\n",
       "      <th>2</th>\n",
       "      <td>206647</td>\n",
       "      <td>Spectre</td>\n",
       "      <td>action adventur crime spi basedonnovel secreta...</td>\n",
       "    </tr>\n",
       "    <tr>\n",
       "      <th>3</th>\n",
       "      <td>49026</td>\n",
       "      <td>The Dark Knight Rises</td>\n",
       "      <td>action crime drama thriller dccomic crimefight...</td>\n",
       "    </tr>\n",
       "    <tr>\n",
       "      <th>4</th>\n",
       "      <td>49529</td>\n",
       "      <td>John Carter</td>\n",
       "      <td>action adventur sciencefict basedonnovel mar m...</td>\n",
       "    </tr>\n",
       "  </tbody>\n",
       "</table>\n",
       "</div>"
      ],
      "text/plain": [
       "   movie_id                            original_title  \\\n",
       "0     19995                                    Avatar   \n",
       "1       285  Pirates of the Caribbean: At World's End   \n",
       "2    206647                                   Spectre   \n",
       "3     49026                     The Dark Knight Rises   \n",
       "4     49529                               John Carter   \n",
       "\n",
       "                                                tags  \n",
       "0  action adventur fantasi sciencefict culturecla...  \n",
       "1  adventur fantasi action ocean drugabus exotici...  \n",
       "2  action adventur crime spi basedonnovel secreta...  \n",
       "3  action crime drama thriller dccomic crimefight...  \n",
       "4  action adventur sciencefict basedonnovel mar m...  "
      ]
     },
     "execution_count": 48,
     "metadata": {},
     "output_type": "execute_result"
    }
   ],
   "source": [
    "new_movies.head()"
   ]
  },
  {
   "cell_type": "code",
   "execution_count": 49,
   "id": "a15dda60",
   "metadata": {
    "execution": {
     "iopub.execute_input": "2022-10-10T21:47:27.956501Z",
     "iopub.status.busy": "2022-10-10T21:47:27.956039Z",
     "iopub.status.idle": "2022-10-10T21:47:27.960829Z",
     "shell.execute_reply": "2022-10-10T21:47:27.959763Z"
    },
    "papermill": {
     "duration": 0.037261,
     "end_time": "2022-10-10T21:47:27.962989",
     "exception": false,
     "start_time": "2022-10-10T21:47:27.925728",
     "status": "completed"
    },
    "tags": []
   },
   "outputs": [],
   "source": [
    "# new_movies.to_csv('new_movies_data.csv')"
   ]
  },
  {
   "cell_type": "code",
   "execution_count": 50,
   "id": "a8b4c05a",
   "metadata": {
    "execution": {
     "iopub.execute_input": "2022-10-10T21:47:28.021223Z",
     "iopub.status.busy": "2022-10-10T21:47:28.020785Z",
     "iopub.status.idle": "2022-10-10T21:47:28.024861Z",
     "shell.execute_reply": "2022-10-10T21:47:28.023954Z"
    },
    "papermill": {
     "duration": 0.035597,
     "end_time": "2022-10-10T21:47:28.026946",
     "exception": false,
     "start_time": "2022-10-10T21:47:27.991349",
     "status": "completed"
    },
    "tags": []
   },
   "outputs": [],
   "source": [
    "# tfidf = TfidfVectorizer(max_features = 2000)\n",
    "# X= tfidf.fit_transform(new_movies['tags'])\n",
    "# print(X.toarray())"
   ]
  },
  {
   "cell_type": "code",
   "execution_count": 51,
   "id": "aa5a22d4",
   "metadata": {
    "execution": {
     "iopub.execute_input": "2022-10-10T21:47:28.084614Z",
     "iopub.status.busy": "2022-10-10T21:47:28.083443Z",
     "iopub.status.idle": "2022-10-10T21:47:28.088466Z",
     "shell.execute_reply": "2022-10-10T21:47:28.087428Z"
    },
    "papermill": {
     "duration": 0.036168,
     "end_time": "2022-10-10T21:47:28.090863",
     "exception": false,
     "start_time": "2022-10-10T21:47:28.054695",
     "status": "completed"
    },
    "tags": []
   },
   "outputs": [],
   "source": [
    "# tfidf.get_feature_names_out()"
   ]
  },
  {
   "cell_type": "markdown",
   "id": "33b963f6",
   "metadata": {
    "papermill": {
     "duration": 0.027837,
     "end_time": "2022-10-10T21:47:28.147743",
     "exception": false,
     "start_time": "2022-10-10T21:47:28.119906",
     "status": "completed"
    },
    "tags": []
   },
   "source": [
    "# Use bag of words method"
   ]
  },
  {
   "cell_type": "code",
   "execution_count": 52,
   "id": "3c3bd985",
   "metadata": {
    "execution": {
     "iopub.execute_input": "2022-10-10T21:47:28.207673Z",
     "iopub.status.busy": "2022-10-10T21:47:28.206302Z",
     "iopub.status.idle": "2022-10-10T21:47:28.339755Z",
     "shell.execute_reply": "2022-10-10T21:47:28.338531Z"
    },
    "papermill": {
     "duration": 0.165087,
     "end_time": "2022-10-10T21:47:28.342301",
     "exception": false,
     "start_time": "2022-10-10T21:47:28.177214",
     "status": "completed"
    },
    "tags": []
   },
   "outputs": [
    {
     "data": {
      "text/plain": [
       "array([[0, 0, 0, ..., 0, 0, 0],\n",
       "       [0, 0, 0, ..., 0, 0, 0],\n",
       "       [0, 0, 0, ..., 0, 0, 0],\n",
       "       ...,\n",
       "       [0, 0, 0, ..., 0, 0, 0],\n",
       "       [0, 0, 0, ..., 0, 0, 0],\n",
       "       [0, 0, 0, ..., 0, 0, 0]])"
      ]
     },
     "execution_count": 52,
     "metadata": {},
     "output_type": "execute_result"
    }
   ],
   "source": [
    "cv = CountVectorizer(max_features = 2000)\n",
    "V=cv.fit_transform(new_movies['tags']).toarray()\n",
    "V"
   ]
  },
  {
   "cell_type": "markdown",
   "id": "0774b2d1",
   "metadata": {
    "papermill": {
     "duration": 0.028314,
     "end_time": "2022-10-10T21:47:28.399175",
     "exception": false,
     "start_time": "2022-10-10T21:47:28.370861",
     "status": "completed"
    },
    "tags": []
   },
   "source": [
    "# Now use cosine similarity"
   ]
  },
  {
   "cell_type": "code",
   "execution_count": 53,
   "id": "f7d8dd58",
   "metadata": {
    "execution": {
     "iopub.execute_input": "2022-10-10T21:47:28.458033Z",
     "iopub.status.busy": "2022-10-10T21:47:28.457603Z",
     "iopub.status.idle": "2022-10-10T21:47:28.462196Z",
     "shell.execute_reply": "2022-10-10T21:47:28.460998Z"
    },
    "papermill": {
     "duration": 0.036986,
     "end_time": "2022-10-10T21:47:28.464286",
     "exception": false,
     "start_time": "2022-10-10T21:47:28.427300",
     "status": "completed"
    },
    "tags": []
   },
   "outputs": [],
   "source": [
    "from sklearn.metrics.pairwise import cosine_similarity"
   ]
  },
  {
   "cell_type": "code",
   "execution_count": 54,
   "id": "b0b35b76",
   "metadata": {
    "execution": {
     "iopub.execute_input": "2022-10-10T21:47:28.523512Z",
     "iopub.status.busy": "2022-10-10T21:47:28.522319Z",
     "iopub.status.idle": "2022-10-10T21:47:29.500479Z",
     "shell.execute_reply": "2022-10-10T21:47:29.498899Z"
    },
    "papermill": {
     "duration": 1.0104,
     "end_time": "2022-10-10T21:47:29.503525",
     "exception": false,
     "start_time": "2022-10-10T21:47:28.493125",
     "status": "completed"
    },
    "tags": []
   },
   "outputs": [
    {
     "data": {
      "text/plain": [
       "array([[1.        , 0.16269784, 0.15811388, ..., 0.0745356 , 0.        ,\n",
       "        0.        ],\n",
       "       [0.16269784, 1.        , 0.17149859, ..., 0.        , 0.        ,\n",
       "        0.        ],\n",
       "       [0.15811388, 0.17149859, 1.        , ..., 0.        , 0.        ,\n",
       "        0.        ],\n",
       "       ...,\n",
       "       [0.0745356 , 0.        , 0.        , ..., 1.        , 0.        ,\n",
       "        0.        ],\n",
       "       [0.        , 0.        , 0.        , ..., 0.        , 0.        ,\n",
       "        0.        ],\n",
       "       [0.        , 0.        , 0.        , ..., 0.        , 0.        ,\n",
       "        1.        ]])"
      ]
     },
     "execution_count": 54,
     "metadata": {},
     "output_type": "execute_result"
    }
   ],
   "source": [
    "similarity=cosine_similarity(V)\n",
    "similarity"
   ]
  },
  {
   "cell_type": "markdown",
   "id": "f82b62eb",
   "metadata": {
    "papermill": {
     "duration": 0.028465,
     "end_time": "2022-10-10T21:47:29.561346",
     "exception": false,
     "start_time": "2022-10-10T21:47:29.532881",
     "status": "completed"
    },
    "tags": []
   },
   "source": [
    "# # Now create Movie recommendation function"
   ]
  },
  {
   "cell_type": "code",
   "execution_count": 55,
   "id": "8f3de258",
   "metadata": {
    "execution": {
     "iopub.execute_input": "2022-10-10T21:47:29.620128Z",
     "iopub.status.busy": "2022-10-10T21:47:29.619412Z",
     "iopub.status.idle": "2022-10-10T21:47:29.626058Z",
     "shell.execute_reply": "2022-10-10T21:47:29.625212Z"
    },
    "papermill": {
     "duration": 0.038738,
     "end_time": "2022-10-10T21:47:29.628177",
     "exception": false,
     "start_time": "2022-10-10T21:47:29.589439",
     "status": "completed"
    },
    "tags": []
   },
   "outputs": [],
   "source": [
    "\n",
    "def recommend(movie):\n",
    "    index = new_movies[new_movies['original_title']== movie].index[0]\n",
    "    movie_name = sorted(list(enumerate(similarity[index])), reverse= True, key =lambda x:x[1])\n",
    "    l=[]\n",
    "    for i in movie_name[1:10]:\n",
    "        a=new_movies.iloc[i[0]].original_title\n",
    "        l.append(a)\n",
    "    \n",
    "    rec_movies=pd.DataFrame(l)\n",
    "    rec_movies=rec_movies.set_axis(['Recommend Movies'], axis=1, inplace=False)\n",
    "    print(rec_movies)\n",
    "    "
   ]
  },
  {
   "cell_type": "code",
   "execution_count": 56,
   "id": "fe3bfe35",
   "metadata": {
    "execution": {
     "iopub.execute_input": "2022-10-10T21:47:29.686399Z",
     "iopub.status.busy": "2022-10-10T21:47:29.685662Z",
     "iopub.status.idle": "2022-10-10T21:47:29.699021Z",
     "shell.execute_reply": "2022-10-10T21:47:29.697515Z"
    },
    "papermill": {
     "duration": 0.045593,
     "end_time": "2022-10-10T21:47:29.701654",
     "exception": false,
     "start_time": "2022-10-10T21:47:29.656061",
     "status": "completed"
    },
    "tags": []
   },
   "outputs": [
    {
     "name": "stdout",
     "output_type": "stream",
     "text": [
      "                      Recommend Movies\n",
      "0                           Iron Man 2\n",
      "1                              Ant-Man\n",
      "2                           Iron Man 3\n",
      "3                         The Avengers\n",
      "4  Captain America: The Winter Soldier\n",
      "5                 Thor: The Dark World\n",
      "6           Captain America: Civil War\n",
      "7                                X-Men\n",
      "8                  The Incredible Hulk\n"
     ]
    }
   ],
   "source": [
    "recommend('Iron Man')"
   ]
  },
  {
   "cell_type": "code",
   "execution_count": null,
   "id": "09572d17",
   "metadata": {
    "papermill": {
     "duration": 0.027881,
     "end_time": "2022-10-10T21:47:29.757723",
     "exception": false,
     "start_time": "2022-10-10T21:47:29.729842",
     "status": "completed"
    },
    "tags": []
   },
   "outputs": [],
   "source": []
  }
 ],
 "metadata": {
  "kernelspec": {
   "display_name": "Python 3",
   "language": "python",
   "name": "python3"
  },
  "language_info": {
   "codemirror_mode": {
    "name": "ipython",
    "version": 3
   },
   "file_extension": ".py",
   "mimetype": "text/x-python",
   "name": "python",
   "nbconvert_exporter": "python",
   "pygments_lexer": "ipython3",
   "version": "3.7.12"
  },
  "papermill": {
   "default_parameters": {},
   "duration": 31.555933,
   "end_time": "2022-10-10T21:47:30.708932",
   "environment_variables": {},
   "exception": null,
   "input_path": "__notebook__.ipynb",
   "output_path": "__notebook__.ipynb",
   "parameters": {},
   "start_time": "2022-10-10T21:46:59.152999",
   "version": "2.3.4"
  }
 },
 "nbformat": 4,
 "nbformat_minor": 5
}
